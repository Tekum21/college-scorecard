{
  "nbformat": 4,
  "nbformat_minor": 0,
  "metadata": {
    "kernelspec": {
      "display_name": "Python 3",
      "language": "python",
      "name": "python3"
    },
    "language_info": {
      "codemirror_mode": {
        "name": "ipython",
        "version": 3
      },
      "file_extension": ".py",
      "mimetype": "text/x-python",
      "name": "python",
      "nbconvert_exporter": "python",
      "pygments_lexer": "ipython3",
      "version": "3.7.1"
    },
    "colab": {
      "name": "2-distro.ipynb",
      "provenance": [],
      "include_colab_link": true
    }
  },
  "cells": [
    {
      "cell_type": "markdown",
      "metadata": {
        "id": "view-in-github",
        "colab_type": "text"
      },
      "source": [
        "<a href=\"https://colab.research.google.com/github/wcj365/college-scorecard/blob/master/2-distro.ipynb\" target=\"_parent\"><img src=\"https://colab.research.google.com/assets/colab-badge.svg\" alt=\"Open In Colab\"/></a>"
      ]
    },
    {
      "cell_type": "markdown",
      "metadata": {
        "id": "OO0zhqhcmvxW",
        "colab_type": "text"
      },
      "source": [
        "# College Scorecard EDA \n",
        "## Part Two - Distribution\n",
        "How are Colleges Distributed Across the US?"
      ]
    },
    {
      "cell_type": "markdown",
      "metadata": {
        "id": "v71dYAzBmvxZ",
        "colab_type": "text"
      },
      "source": [
        "## Import Relevant Python Libraries"
      ]
    },
    {
      "cell_type": "code",
      "metadata": {
        "id": "V68ZiL9umvxa",
        "colab_type": "code",
        "colab": {}
      },
      "source": [
        "import pandas as pd\n",
        "import numpy as np\n",
        "import matplotlib.pyplot as plt   \n",
        "\n",
        "# We will use Altair for data visualization in additon to Pandas and Matplotlib\n",
        "import altair as alt           "
      ],
      "execution_count": 0,
      "outputs": []
    },
    {
      "cell_type": "markdown",
      "metadata": {
        "id": "88eLmGhJmvxe",
        "colab_type": "text"
      },
      "source": [
        "## Load the Data into Pandas Dataframe"
      ]
    },
    {
      "cell_type": "code",
      "metadata": {
        "id": "cGE5z7ntmvxf",
        "colab_type": "code",
        "colab": {}
      },
      "source": [
        "# # Since there are hundreds of columns, we don't want to load all of them. \n",
        "# They consume too much memory. Define the list of columns to be loaded. \n",
        "\n",
        "COLUMNS_OF_INTEREST = ['UNITID', 'STABBR']"
      ],
      "execution_count": 0,
      "outputs": []
    },
    {
      "cell_type": "code",
      "metadata": {
        "id": "cyzaQDRAmvxk",
        "colab_type": "code",
        "colab": {}
      },
      "source": [
        "# Load the data directly from the web.\n",
        "# The file is 154 MB in size. Alternatively, we would download and save it to a local flder first.\n",
        "\n",
        "#url = r'https://ed-public-download.app.cloud.gov/downloads/Most-Recent-Cohorts-All-Data-Elements.csv'   \n",
        "\n",
        "#df = pd.read_csv(url, usecols = COLUMNS_OF_INTEREST)"
      ],
      "execution_count": 0,
      "outputs": []
    },
    {
      "cell_type": "code",
      "metadata": {
        "id": "Bsl898-Amvxo",
        "colab_type": "code",
        "colab": {},
        "outputId": "e5628389-2575-4902-d57e-3e566a7a22cf"
      },
      "source": [
        "# Assuming the data file was already downloaded to a local folder.\n",
        "\n",
        "FOLDER_NAME = \"./data/CollegeScorecard_Raw_Data/\"\n",
        "FILE_NAME = \"Most-Recent-Cohorts-All-Data-Elements.csv\"\n",
        "\n",
        "df = pd.read_csv(FOLDER_NAME + FILE_NAME, usecols = COLUMNS_OF_INTEREST)\n",
        "\n",
        "df.info()"
      ],
      "execution_count": 0,
      "outputs": [
        {
          "output_type": "stream",
          "text": [
            "<class 'pandas.core.frame.DataFrame'>\n",
            "RangeIndex: 7112 entries, 0 to 7111\n",
            "Data columns (total 2 columns):\n",
            "UNITID    7112 non-null int64\n",
            "STABBR    7112 non-null object\n",
            "dtypes: int64(1), object(1)\n",
            "memory usage: 111.2+ KB\n"
          ],
          "name": "stdout"
        }
      ]
    },
    {
      "cell_type": "code",
      "metadata": {
        "id": "CC4B5ioOmvxs",
        "colab_type": "code",
        "colab": {},
        "outputId": "1540fae9-ece9-40ad-d26c-957dff50fbf1"
      },
      "source": [
        "df.sample(10)"
      ],
      "execution_count": 0,
      "outputs": [
        {
          "output_type": "execute_result",
          "data": {
            "text/html": [
              "<div>\n",
              "<style scoped>\n",
              "    .dataframe tbody tr th:only-of-type {\n",
              "        vertical-align: middle;\n",
              "    }\n",
              "\n",
              "    .dataframe tbody tr th {\n",
              "        vertical-align: top;\n",
              "    }\n",
              "\n",
              "    .dataframe thead th {\n",
              "        text-align: right;\n",
              "    }\n",
              "</style>\n",
              "<table border=\"1\" class=\"dataframe\">\n",
              "  <thead>\n",
              "    <tr style=\"text-align: right;\">\n",
              "      <th></th>\n",
              "      <th>UNITID</th>\n",
              "      <th>STABBR</th>\n",
              "    </tr>\n",
              "  </thead>\n",
              "  <tbody>\n",
              "    <tr>\n",
              "      <th>2945</th>\n",
              "      <td>210809</td>\n",
              "      <td>PA</td>\n",
              "    </tr>\n",
              "    <tr>\n",
              "      <th>137</th>\n",
              "      <td>106713</td>\n",
              "      <td>AR</td>\n",
              "    </tr>\n",
              "    <tr>\n",
              "      <th>1440</th>\n",
              "      <td>161527</td>\n",
              "      <td>ME</td>\n",
              "    </tr>\n",
              "    <tr>\n",
              "      <th>1787</th>\n",
              "      <td>174358</td>\n",
              "      <td>MN</td>\n",
              "    </tr>\n",
              "    <tr>\n",
              "      <th>2958</th>\n",
              "      <td>211273</td>\n",
              "      <td>PA</td>\n",
              "    </tr>\n",
              "    <tr>\n",
              "      <th>7011</th>\n",
              "      <td>43601201</td>\n",
              "      <td>NY</td>\n",
              "    </tr>\n",
              "    <tr>\n",
              "      <th>1117</th>\n",
              "      <td>151467</td>\n",
              "      <td>IN</td>\n",
              "    </tr>\n",
              "    <tr>\n",
              "      <th>3563</th>\n",
              "      <td>229267</td>\n",
              "      <td>TX</td>\n",
              "    </tr>\n",
              "    <tr>\n",
              "      <th>1182</th>\n",
              "      <td>153588</td>\n",
              "      <td>IA</td>\n",
              "    </tr>\n",
              "    <tr>\n",
              "      <th>1412</th>\n",
              "      <td>160658</td>\n",
              "      <td>LA</td>\n",
              "    </tr>\n",
              "  </tbody>\n",
              "</table>\n",
              "</div>"
            ],
            "text/plain": [
              "        UNITID STABBR\n",
              "2945    210809     PA\n",
              "137     106713     AR\n",
              "1440    161527     ME\n",
              "1787    174358     MN\n",
              "2958    211273     PA\n",
              "7011  43601201     NY\n",
              "1117    151467     IN\n",
              "3563    229267     TX\n",
              "1182    153588     IA\n",
              "1412    160658     LA"
            ]
          },
          "metadata": {
            "tags": []
          },
          "execution_count": 3
        }
      ]
    },
    {
      "cell_type": "code",
      "metadata": {
        "id": "T72ZGDtcmvxy",
        "colab_type": "code",
        "colab": {},
        "outputId": "aa10867d-5bc7-4f62-fb55-7c119e18818b"
      },
      "source": [
        "# Groupby produces a dataframe and uses the group variable as the index. \n",
        "# Use reset_index to make the group variable a separate column\n",
        "\n",
        "grouped = df[[\"UNITID\",\"STABBR\"]].groupby(\"STABBR\").count().reset_index()\n",
        "\n",
        "# UNITED become the column name for the subtotal counts\n",
        "# Sort the dataframe based on the counts in a descending order\n",
        "\n",
        "grouped.sort_values('UNITID', ascending=False, inplace=True)  \n",
        "\n",
        "grouped.head()"
      ],
      "execution_count": 0,
      "outputs": [
        {
          "output_type": "execute_result",
          "data": {
            "text/html": [
              "<div>\n",
              "<style scoped>\n",
              "    .dataframe tbody tr th:only-of-type {\n",
              "        vertical-align: middle;\n",
              "    }\n",
              "\n",
              "    .dataframe tbody tr th {\n",
              "        vertical-align: top;\n",
              "    }\n",
              "\n",
              "    .dataframe thead th {\n",
              "        text-align: right;\n",
              "    }\n",
              "</style>\n",
              "<table border=\"1\" class=\"dataframe\">\n",
              "  <thead>\n",
              "    <tr style=\"text-align: right;\">\n",
              "      <th></th>\n",
              "      <th>STABBR</th>\n",
              "      <th>UNITID</th>\n",
              "    </tr>\n",
              "  </thead>\n",
              "  <tbody>\n",
              "    <tr>\n",
              "      <th>5</th>\n",
              "      <td>CA</td>\n",
              "      <td>716</td>\n",
              "    </tr>\n",
              "    <tr>\n",
              "      <th>39</th>\n",
              "      <td>NY</td>\n",
              "      <td>452</td>\n",
              "    </tr>\n",
              "    <tr>\n",
              "      <th>50</th>\n",
              "      <td>TX</td>\n",
              "      <td>446</td>\n",
              "    </tr>\n",
              "    <tr>\n",
              "      <th>10</th>\n",
              "      <td>FL</td>\n",
              "      <td>412</td>\n",
              "    </tr>\n",
              "    <tr>\n",
              "      <th>43</th>\n",
              "      <td>PA</td>\n",
              "      <td>378</td>\n",
              "    </tr>\n",
              "  </tbody>\n",
              "</table>\n",
              "</div>"
            ],
            "text/plain": [
              "   STABBR  UNITID\n",
              "5      CA     716\n",
              "39     NY     452\n",
              "50     TX     446\n",
              "10     FL     412\n",
              "43     PA     378"
            ]
          },
          "metadata": {
            "tags": []
          },
          "execution_count": 5
        }
      ]
    },
    {
      "cell_type": "markdown",
      "metadata": {
        "id": "pUq-uEyImvx4",
        "colab_type": "text"
      },
      "source": [
        "### Use Altair bar chart to display all states and territories. Since there are 59 rows, vertical bars will be too crowded, use horizontal bars instead."
      ]
    },
    {
      "cell_type": "code",
      "metadata": {
        "id": "DeioeQ1imvx5",
        "colab_type": "code",
        "colab": {},
        "outputId": "f0fd855d-59ca-4531-9f49-a381d6cda8e4"
      },
      "source": [
        "bars = alt.Chart(grouped).mark_bar().encode(\n",
        "    x='UNITID:Q',\n",
        "    y=alt.Y('STABBR:N', sort='-x'),\n",
        "    color=alt.Color('STABBR', scale=alt.Scale(scheme='dark2'))\n",
        ")\n",
        "\n",
        "bars = bars.properties(\n",
        "    width=600,\n",
        "    height=800\n",
        ")\n",
        "\n",
        "text = bars.mark_text(\n",
        "    align='left',\n",
        "    baseline='middle',\n",
        "    dx=3  # Nudges text to right so it doesn't overlap with the bar\n",
        ").encode(\n",
        "    text='UNITID:Q'\n",
        ")\n",
        "\n",
        "bars + text"
      ],
      "execution_count": 0,
      "outputs": [
        {
          "output_type": "execute_result",
          "data": {
            "text/html": [
              "\n",
              "<div id=\"altair-viz-a4491d907d8d4997a85bfbf4d7bf93c9\"></div>\n",
              "<script type=\"text/javascript\">\n",
              "  (function(spec, embedOpt){\n",
              "    const outputDiv = document.getElementById(\"altair-viz-a4491d907d8d4997a85bfbf4d7bf93c9\");\n",
              "    const paths = {\n",
              "      \"vega\": \"https://cdn.jsdelivr.net/npm//vega@5?noext\",\n",
              "      \"vega-lib\": \"https://cdn.jsdelivr.net/npm//vega-lib?noext\",\n",
              "      \"vega-lite\": \"https://cdn.jsdelivr.net/npm//vega-lite@4.0.2?noext\",\n",
              "      \"vega-embed\": \"https://cdn.jsdelivr.net/npm//vega-embed@6?noext\",\n",
              "    };\n",
              "\n",
              "    function loadScript(lib) {\n",
              "      return new Promise(function(resolve, reject) {\n",
              "        var s = document.createElement('script');\n",
              "        s.src = paths[lib];\n",
              "        s.async = true;\n",
              "        s.onload = () => resolve(paths[lib]);\n",
              "        s.onerror = () => reject(`Error loading script: ${paths[lib]}`);\n",
              "        document.getElementsByTagName(\"head\")[0].appendChild(s);\n",
              "      });\n",
              "    }\n",
              "\n",
              "    function showError(err) {\n",
              "      outputDiv.innerHTML = `<div class=\"error\" style=\"color:red;\">${err}</div>`;\n",
              "      throw err;\n",
              "    }\n",
              "\n",
              "    function displayChart(vegaEmbed) {\n",
              "      vegaEmbed(outputDiv, spec, embedOpt)\n",
              "        .catch(err => showError(`Javascript Error: ${err.message}<br>This usually means there's a typo in your chart specification. See the javascript console for the full traceback.`));\n",
              "    }\n",
              "\n",
              "    if(typeof define === \"function\" && define.amd) {\n",
              "      requirejs.config({paths});\n",
              "      require([\"vega-embed\"], displayChart, err => showError(`Error loading script: ${err.message}`));\n",
              "    } else if (typeof vegaEmbed === \"function\") {\n",
              "      displayChart(vegaEmbed);\n",
              "    } else {\n",
              "      loadScript(\"vega\")\n",
              "        .then(() => loadScript(\"vega-lite\"))\n",
              "        .then(() => loadScript(\"vega-embed\"))\n",
              "        .catch(showError)\n",
              "        .then(() => displayChart(vegaEmbed));\n",
              "    }\n",
              "  })({\"config\": {\"view\": {\"continuousWidth\": 400, \"continuousHeight\": 300}}, \"layer\": [{\"mark\": \"bar\", \"encoding\": {\"color\": {\"type\": \"nominal\", \"field\": \"STABBR\", \"scale\": {\"scheme\": \"dark2\"}}, \"x\": {\"type\": \"quantitative\", \"field\": \"UNITID\"}, \"y\": {\"type\": \"nominal\", \"field\": \"STABBR\", \"sort\": \"-x\"}}, \"height\": 800, \"width\": 600}, {\"mark\": {\"type\": \"text\", \"align\": \"left\", \"baseline\": \"middle\", \"dx\": 3}, \"encoding\": {\"color\": {\"type\": \"nominal\", \"field\": \"STABBR\", \"scale\": {\"scheme\": \"dark2\"}}, \"text\": {\"type\": \"quantitative\", \"field\": \"UNITID\"}, \"x\": {\"type\": \"quantitative\", \"field\": \"UNITID\"}, \"y\": {\"type\": \"nominal\", \"field\": \"STABBR\", \"sort\": \"-x\"}}, \"height\": 800, \"width\": 600}], \"data\": {\"name\": \"data-ffbc679301dfb135bcc8eecdb24d078f\"}, \"$schema\": \"https://vega.github.io/schema/vega-lite/v4.0.2.json\", \"datasets\": {\"data-ffbc679301dfb135bcc8eecdb24d078f\": [{\"STABBR\": \"CA\", \"UNITID\": 716}, {\"STABBR\": \"NY\", \"UNITID\": 452}, {\"STABBR\": \"TX\", \"UNITID\": 446}, {\"STABBR\": \"FL\", \"UNITID\": 412}, {\"STABBR\": \"PA\", \"UNITID\": 378}, {\"STABBR\": \"OH\", \"UNITID\": 317}, {\"STABBR\": \"IL\", \"UNITID\": 277}, {\"STABBR\": \"MI\", \"UNITID\": 194}, {\"STABBR\": \"NC\", \"UNITID\": 188}, {\"STABBR\": \"MO\", \"UNITID\": 180}, {\"STABBR\": \"MA\", \"UNITID\": 178}, {\"STABBR\": \"VA\", \"UNITID\": 177}, {\"STABBR\": \"TN\", \"UNITID\": 176}, {\"STABBR\": \"GA\", \"UNITID\": 175}, {\"STABBR\": \"NJ\", \"UNITID\": 162}, {\"STABBR\": \"IN\", \"UNITID\": 155}, {\"STABBR\": \"PR\", \"UNITID\": 146}, {\"STABBR\": \"LA\", \"UNITID\": 131}, {\"STABBR\": \"OK\", \"UNITID\": 129}, {\"STABBR\": \"AZ\", \"UNITID\": 125}, {\"STABBR\": \"MN\", \"UNITID\": 123}, {\"STABBR\": \"WA\", \"UNITID\": 119}, {\"STABBR\": \"CO\", \"UNITID\": 113}, {\"STABBR\": \"SC\", \"UNITID\": 110}, {\"STABBR\": \"WI\", \"UNITID\": 109}, {\"STABBR\": \"KY\", \"UNITID\": 101}, {\"STABBR\": \"AL\", \"UNITID\": 94}, {\"STABBR\": \"MD\", \"UNITID\": 91}, {\"STABBR\": \"AR\", \"UNITID\": 89}, {\"STABBR\": \"IA\", \"UNITID\": 88}, {\"STABBR\": \"OR\", \"UNITID\": 87}, {\"STABBR\": \"KS\", \"UNITID\": 84}, {\"STABBR\": \"CT\", \"UNITID\": 83}, {\"STABBR\": \"UT\", \"UNITID\": 75}, {\"STABBR\": \"WV\", \"UNITID\": 74}, {\"STABBR\": \"MS\", \"UNITID\": 61}, {\"STABBR\": \"NE\", \"UNITID\": 49}, {\"STABBR\": \"NM\", \"UNITID\": 49}, {\"STABBR\": \"NV\", \"UNITID\": 41}, {\"STABBR\": \"ME\", \"UNITID\": 40}, {\"STABBR\": \"NH\", \"UNITID\": 40}, {\"STABBR\": \"ID\", \"UNITID\": 37}, {\"STABBR\": \"MT\", \"UNITID\": 33}, {\"STABBR\": \"SD\", \"UNITID\": 30}, {\"STABBR\": \"ND\", \"UNITID\": 29}, {\"STABBR\": \"VT\", \"UNITID\": 26}, {\"STABBR\": \"RI\", \"UNITID\": 25}, {\"STABBR\": \"HI\", \"UNITID\": 25}, {\"STABBR\": \"DC\", \"UNITID\": 24}, {\"STABBR\": \"DE\", \"UNITID\": 20}, {\"STABBR\": \"WY\", \"UNITID\": 10}, {\"STABBR\": \"AK\", \"UNITID\": 9}, {\"STABBR\": \"GU\", \"UNITID\": 3}, {\"STABBR\": \"VI\", \"UNITID\": 2}, {\"STABBR\": \"PW\", \"UNITID\": 1}, {\"STABBR\": \"MH\", \"UNITID\": 1}, {\"STABBR\": \"FM\", \"UNITID\": 1}, {\"STABBR\": \"AS\", \"UNITID\": 1}, {\"STABBR\": \"MP\", \"UNITID\": 1}]}}, {\"mode\": \"vega-lite\"});\n",
              "</script>"
            ],
            "text/plain": [
              "alt.LayerChart(...)"
            ]
          },
          "metadata": {
            "tags": []
          },
          "execution_count": 6
        }
      ]
    },
    {
      "cell_type": "markdown",
      "metadata": {
        "id": "ItT9Z5rrmvx_",
        "colab_type": "text"
      },
      "source": [
        "### Use Altair bar chart to display top 10 states that have most colleges - Horizontal Bars"
      ]
    },
    {
      "cell_type": "code",
      "metadata": {
        "id": "iTDEY0hRmvyA",
        "colab_type": "code",
        "colab": {},
        "outputId": "8b14acfb-37ba-47b3-f928-7e3b61cda70d"
      },
      "source": [
        "bars = alt.Chart(grouped.head(10)).mark_bar().encode(\n",
        "    x='UNITID:Q',\n",
        "    y=alt.Y('STABBR:N', sort='-x'),\n",
        "    color=alt.Color('STABBR', scale=alt.Scale(scheme='dark2'))\n",
        ")\n",
        "\n",
        "bars = bars.properties(\n",
        "    width=600,\n",
        "    height=600\n",
        ")\n",
        "\n",
        "text = bars.mark_text(\n",
        "    align='left',\n",
        "    baseline='middle',\n",
        "    dx=3  # Nudges text to right so it doesn't overlap with the bar\n",
        ").encode(\n",
        "    text='UNITID:Q'\n",
        ")\n",
        "\n",
        "bars + text\n"
      ],
      "execution_count": 0,
      "outputs": [
        {
          "output_type": "execute_result",
          "data": {
            "text/html": [
              "\n",
              "<div id=\"altair-viz-7229e16d06c44bbe87586c3d989f483d\"></div>\n",
              "<script type=\"text/javascript\">\n",
              "  (function(spec, embedOpt){\n",
              "    const outputDiv = document.getElementById(\"altair-viz-7229e16d06c44bbe87586c3d989f483d\");\n",
              "    const paths = {\n",
              "      \"vega\": \"https://cdn.jsdelivr.net/npm//vega@5?noext\",\n",
              "      \"vega-lib\": \"https://cdn.jsdelivr.net/npm//vega-lib?noext\",\n",
              "      \"vega-lite\": \"https://cdn.jsdelivr.net/npm//vega-lite@4.0.2?noext\",\n",
              "      \"vega-embed\": \"https://cdn.jsdelivr.net/npm//vega-embed@6?noext\",\n",
              "    };\n",
              "\n",
              "    function loadScript(lib) {\n",
              "      return new Promise(function(resolve, reject) {\n",
              "        var s = document.createElement('script');\n",
              "        s.src = paths[lib];\n",
              "        s.async = true;\n",
              "        s.onload = () => resolve(paths[lib]);\n",
              "        s.onerror = () => reject(`Error loading script: ${paths[lib]}`);\n",
              "        document.getElementsByTagName(\"head\")[0].appendChild(s);\n",
              "      });\n",
              "    }\n",
              "\n",
              "    function showError(err) {\n",
              "      outputDiv.innerHTML = `<div class=\"error\" style=\"color:red;\">${err}</div>`;\n",
              "      throw err;\n",
              "    }\n",
              "\n",
              "    function displayChart(vegaEmbed) {\n",
              "      vegaEmbed(outputDiv, spec, embedOpt)\n",
              "        .catch(err => showError(`Javascript Error: ${err.message}<br>This usually means there's a typo in your chart specification. See the javascript console for the full traceback.`));\n",
              "    }\n",
              "\n",
              "    if(typeof define === \"function\" && define.amd) {\n",
              "      requirejs.config({paths});\n",
              "      require([\"vega-embed\"], displayChart, err => showError(`Error loading script: ${err.message}`));\n",
              "    } else if (typeof vegaEmbed === \"function\") {\n",
              "      displayChart(vegaEmbed);\n",
              "    } else {\n",
              "      loadScript(\"vega\")\n",
              "        .then(() => loadScript(\"vega-lite\"))\n",
              "        .then(() => loadScript(\"vega-embed\"))\n",
              "        .catch(showError)\n",
              "        .then(() => displayChart(vegaEmbed));\n",
              "    }\n",
              "  })({\"config\": {\"view\": {\"continuousWidth\": 400, \"continuousHeight\": 300}}, \"layer\": [{\"mark\": \"bar\", \"encoding\": {\"color\": {\"type\": \"nominal\", \"field\": \"STABBR\", \"scale\": {\"scheme\": \"dark2\"}}, \"x\": {\"type\": \"quantitative\", \"field\": \"UNITID\"}, \"y\": {\"type\": \"nominal\", \"field\": \"STABBR\", \"sort\": \"-x\"}}, \"height\": 600, \"width\": 600}, {\"mark\": {\"type\": \"text\", \"align\": \"left\", \"baseline\": \"middle\", \"dx\": 3}, \"encoding\": {\"color\": {\"type\": \"nominal\", \"field\": \"STABBR\", \"scale\": {\"scheme\": \"dark2\"}}, \"text\": {\"type\": \"quantitative\", \"field\": \"UNITID\"}, \"x\": {\"type\": \"quantitative\", \"field\": \"UNITID\"}, \"y\": {\"type\": \"nominal\", \"field\": \"STABBR\", \"sort\": \"-x\"}}, \"height\": 600, \"width\": 600}], \"data\": {\"name\": \"data-326c088646f745a57aa8d86851968ce5\"}, \"$schema\": \"https://vega.github.io/schema/vega-lite/v4.0.2.json\", \"datasets\": {\"data-326c088646f745a57aa8d86851968ce5\": [{\"STABBR\": \"CA\", \"UNITID\": 716}, {\"STABBR\": \"NY\", \"UNITID\": 452}, {\"STABBR\": \"TX\", \"UNITID\": 446}, {\"STABBR\": \"FL\", \"UNITID\": 412}, {\"STABBR\": \"PA\", \"UNITID\": 378}, {\"STABBR\": \"OH\", \"UNITID\": 317}, {\"STABBR\": \"IL\", \"UNITID\": 277}, {\"STABBR\": \"MI\", \"UNITID\": 194}, {\"STABBR\": \"NC\", \"UNITID\": 188}, {\"STABBR\": \"MO\", \"UNITID\": 180}]}}, {\"mode\": \"vega-lite\"});\n",
              "</script>"
            ],
            "text/plain": [
              "alt.LayerChart(...)"
            ]
          },
          "metadata": {
            "tags": []
          },
          "execution_count": 7
        }
      ]
    },
    {
      "cell_type": "markdown",
      "metadata": {
        "id": "ViXLsSFMmvyH",
        "colab_type": "text"
      },
      "source": [
        "### Use Altair bar chart to display top 10 states that have most colleges - Vertical Bars"
      ]
    },
    {
      "cell_type": "code",
      "metadata": {
        "id": "j8sUxi01mvyI",
        "colab_type": "code",
        "colab": {},
        "outputId": "a2fb2d18-f6c4-4437-c7a1-2ea0905161eb"
      },
      "source": [
        "bars = alt.Chart(grouped.head(10)).mark_bar().encode(\n",
        "    y='UNITID:Q',\n",
        "    x=alt.X('STABBR:N', sort='y'),\n",
        "    color=alt.Color('STABBR', scale=alt.Scale(scheme='dark2'))\n",
        ")\n",
        "\n",
        "bars = bars.properties(\n",
        "    width=600,\n",
        "    height=600\n",
        ")\n",
        "\n",
        "text = bars.mark_text(\n",
        "    align='center',\n",
        "    baseline='middle',\n",
        "    dy=-10  # Nudges text up so it doesn't overlap with the bar\n",
        ").encode(\n",
        "    text='UNITID:Q'\n",
        ")\n",
        "\n",
        "bars + text\n"
      ],
      "execution_count": 0,
      "outputs": [
        {
          "output_type": "execute_result",
          "data": {
            "text/html": [
              "\n",
              "<div id=\"altair-viz-6c07b47eda6e442fa0c0b6918e99beca\"></div>\n",
              "<script type=\"text/javascript\">\n",
              "  (function(spec, embedOpt){\n",
              "    const outputDiv = document.getElementById(\"altair-viz-6c07b47eda6e442fa0c0b6918e99beca\");\n",
              "    const paths = {\n",
              "      \"vega\": \"https://cdn.jsdelivr.net/npm//vega@5?noext\",\n",
              "      \"vega-lib\": \"https://cdn.jsdelivr.net/npm//vega-lib?noext\",\n",
              "      \"vega-lite\": \"https://cdn.jsdelivr.net/npm//vega-lite@4.0.2?noext\",\n",
              "      \"vega-embed\": \"https://cdn.jsdelivr.net/npm//vega-embed@6?noext\",\n",
              "    };\n",
              "\n",
              "    function loadScript(lib) {\n",
              "      return new Promise(function(resolve, reject) {\n",
              "        var s = document.createElement('script');\n",
              "        s.src = paths[lib];\n",
              "        s.async = true;\n",
              "        s.onload = () => resolve(paths[lib]);\n",
              "        s.onerror = () => reject(`Error loading script: ${paths[lib]}`);\n",
              "        document.getElementsByTagName(\"head\")[0].appendChild(s);\n",
              "      });\n",
              "    }\n",
              "\n",
              "    function showError(err) {\n",
              "      outputDiv.innerHTML = `<div class=\"error\" style=\"color:red;\">${err}</div>`;\n",
              "      throw err;\n",
              "    }\n",
              "\n",
              "    function displayChart(vegaEmbed) {\n",
              "      vegaEmbed(outputDiv, spec, embedOpt)\n",
              "        .catch(err => showError(`Javascript Error: ${err.message}<br>This usually means there's a typo in your chart specification. See the javascript console for the full traceback.`));\n",
              "    }\n",
              "\n",
              "    if(typeof define === \"function\" && define.amd) {\n",
              "      requirejs.config({paths});\n",
              "      require([\"vega-embed\"], displayChart, err => showError(`Error loading script: ${err.message}`));\n",
              "    } else if (typeof vegaEmbed === \"function\") {\n",
              "      displayChart(vegaEmbed);\n",
              "    } else {\n",
              "      loadScript(\"vega\")\n",
              "        .then(() => loadScript(\"vega-lite\"))\n",
              "        .then(() => loadScript(\"vega-embed\"))\n",
              "        .catch(showError)\n",
              "        .then(() => displayChart(vegaEmbed));\n",
              "    }\n",
              "  })({\"config\": {\"view\": {\"continuousWidth\": 400, \"continuousHeight\": 300}}, \"layer\": [{\"mark\": \"bar\", \"encoding\": {\"color\": {\"type\": \"nominal\", \"field\": \"STABBR\", \"scale\": {\"scheme\": \"dark2\"}}, \"x\": {\"type\": \"nominal\", \"field\": \"STABBR\", \"sort\": \"y\"}, \"y\": {\"type\": \"quantitative\", \"field\": \"UNITID\"}}, \"height\": 600, \"width\": 600}, {\"mark\": {\"type\": \"text\", \"align\": \"center\", \"baseline\": \"middle\", \"dy\": -10}, \"encoding\": {\"color\": {\"type\": \"nominal\", \"field\": \"STABBR\", \"scale\": {\"scheme\": \"dark2\"}}, \"text\": {\"type\": \"quantitative\", \"field\": \"UNITID\"}, \"x\": {\"type\": \"nominal\", \"field\": \"STABBR\", \"sort\": \"y\"}, \"y\": {\"type\": \"quantitative\", \"field\": \"UNITID\"}}, \"height\": 600, \"width\": 600}], \"data\": {\"name\": \"data-326c088646f745a57aa8d86851968ce5\"}, \"$schema\": \"https://vega.github.io/schema/vega-lite/v4.0.2.json\", \"datasets\": {\"data-326c088646f745a57aa8d86851968ce5\": [{\"STABBR\": \"CA\", \"UNITID\": 716}, {\"STABBR\": \"NY\", \"UNITID\": 452}, {\"STABBR\": \"TX\", \"UNITID\": 446}, {\"STABBR\": \"FL\", \"UNITID\": 412}, {\"STABBR\": \"PA\", \"UNITID\": 378}, {\"STABBR\": \"OH\", \"UNITID\": 317}, {\"STABBR\": \"IL\", \"UNITID\": 277}, {\"STABBR\": \"MI\", \"UNITID\": 194}, {\"STABBR\": \"NC\", \"UNITID\": 188}, {\"STABBR\": \"MO\", \"UNITID\": 180}]}}, {\"mode\": \"vega-lite\"});\n",
              "</script>"
            ],
            "text/plain": [
              "alt.LayerChart(...)"
            ]
          },
          "metadata": {
            "tags": []
          },
          "execution_count": 8
        }
      ]
    },
    {
      "cell_type": "code",
      "metadata": {
        "id": "aNwyyMF_mvyM",
        "colab_type": "code",
        "colab": {}
      },
      "source": [
        ""
      ],
      "execution_count": 0,
      "outputs": []
    }
  ]
}