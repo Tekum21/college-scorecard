{
  "nbformat": 4,
  "nbformat_minor": 0,
  "metadata": {
    "kernelspec": {
      "display_name": "Python 3",
      "language": "python",
      "name": "python3"
    },
    "language_info": {
      "codemirror_mode": {
        "name": "ipython",
        "version": 3
      },
      "file_extension": ".py",
      "mimetype": "text/x-python",
      "name": "python",
      "nbconvert_exporter": "python",
      "pygments_lexer": "ipython3",
      "version": "3.7.1"
    },
    "colab": {
      "name": "2-distro.ipynb",
      "provenance": [],
      "include_colab_link": true
    }
  },
  "cells": [
    {
      "cell_type": "markdown",
      "metadata": {
        "id": "view-in-github",
        "colab_type": "text"
      },
      "source": [
        "<a href=\"https://colab.research.google.com/github/wcj365/college-scorecard/blob/master/2-distro.ipynb\" target=\"_parent\"><img src=\"https://colab.research.google.com/assets/colab-badge.svg\" alt=\"Open In Colab\"/></a>"
      ]
    },
    {
      "cell_type": "markdown",
      "metadata": {
        "id": "OO0zhqhcmvxW",
        "colab_type": "text"
      },
      "source": [
        "# College Scorecard EDA \n",
        "## Part Two - Distribution\n",
        "How are Colleges Distributed Across the US?"
      ]
    },
    {
      "cell_type": "markdown",
      "metadata": {
        "id": "v71dYAzBmvxZ",
        "colab_type": "text"
      },
      "source": [
        "## Import Relevant Python Libraries"
      ]
    },
    {
      "cell_type": "code",
      "metadata": {
        "id": "V68ZiL9umvxa",
        "colab_type": "code",
        "colab": {}
      },
      "source": [
        "import pandas as pd\n",
        "import numpy as np\n",
        "import matplotlib.pyplot as plt   \n",
        "\n",
        "# We will use Altair for data visualization in additon to Pandas and Matplotlib\n",
        "import altair as alt           "
      ],
      "execution_count": 0,
      "outputs": []
    },
    {
      "cell_type": "markdown",
      "metadata": {
        "id": "88eLmGhJmvxe",
        "colab_type": "text"
      },
      "source": [
        "## Load the Data into Pandas Dataframe"
      ]
    },
    {
      "cell_type": "code",
      "metadata": {
        "id": "cGE5z7ntmvxf",
        "colab_type": "code",
        "colab": {}
      },
      "source": [
        "# # Since there are hundreds of columns, we don't want to load all of them. \n",
        "# They consume too much memory. Define the list of columns to be loaded. \n",
        "\n",
        "COLUMNS_OF_INTEREST = ['UNITID', 'STABBR']"
      ],
      "execution_count": 0,
      "outputs": []
    },
    {
      "cell_type": "code",
      "metadata": {
        "id": "cyzaQDRAmvxk",
        "colab_type": "code",
        "colab": {}
      },
      "source": [
        "# Load the data directly from the web.\n",
        "# The file is 154 MB in size. Alternatively, we would download and save it to a local flder first.\n",
        "\n",
        "url = r'https://ed-public-download.app.cloud.gov/downloads/Most-Recent-Cohorts-All-Data-Elements.csv'   \n",
        "\n",
        "df = pd.read_csv(url, usecols = COLUMNS_OF_INTEREST)\n",
        "df.info()"
      ],
      "execution_count": 0,
      "outputs": []
    },
    {
      "cell_type": "code",
      "metadata": {
        "id": "Bsl898-Amvxo",
        "colab_type": "code",
        "outputId": "6602739d-e151-4f86-94eb-ceb2e64ff22e",
        "colab": {
          "base_uri": "https://localhost:8080/",
          "height": 463
        }
      },
      "source": [
        "# Assuming the data file was already downloaded to a local folder.\n",
        "\n",
        "#FOLDER_NAME = \"./data/CollegeScorecard_Raw_Data/\"\n",
        "#FILE_NAME = \"Most-Recent-Cohorts-All-Data-Elements.csv\"\n",
        "\n",
        "#df = pd.read_csv(FOLDER_NAME + FILE_NAME, usecols = COLUMNS_OF_INTEREST)\n",
        "\n",
        "#df.info()"
      ],
      "execution_count": 4,
      "outputs": [
        {
          "output_type": "error",
          "ename": "FileNotFoundError",
          "evalue": "ignored",
          "traceback": [
            "\u001b[0;31m---------------------------------------------------------------------------\u001b[0m",
            "\u001b[0;31mFileNotFoundError\u001b[0m                         Traceback (most recent call last)",
            "\u001b[0;32m<ipython-input-4-fd35fd5d2cd0>\u001b[0m in \u001b[0;36m<module>\u001b[0;34m()\u001b[0m\n\u001b[1;32m      3\u001b[0m \u001b[0mFILE_NAME\u001b[0m \u001b[0;34m=\u001b[0m \u001b[0;34m\"Most-Recent-Cohorts-All-Data-Elements.csv\"\u001b[0m\u001b[0;34m\u001b[0m\u001b[0;34m\u001b[0m\u001b[0m\n\u001b[1;32m      4\u001b[0m \u001b[0;34m\u001b[0m\u001b[0m\n\u001b[0;32m----> 5\u001b[0;31m \u001b[0mdf\u001b[0m \u001b[0;34m=\u001b[0m \u001b[0mpd\u001b[0m\u001b[0;34m.\u001b[0m\u001b[0mread_csv\u001b[0m\u001b[0;34m(\u001b[0m\u001b[0mFOLDER_NAME\u001b[0m \u001b[0;34m+\u001b[0m \u001b[0mFILE_NAME\u001b[0m\u001b[0;34m,\u001b[0m \u001b[0musecols\u001b[0m \u001b[0;34m=\u001b[0m \u001b[0mCOLUMNS_OF_INTEREST\u001b[0m\u001b[0;34m)\u001b[0m\u001b[0;34m\u001b[0m\u001b[0;34m\u001b[0m\u001b[0m\n\u001b[0m\u001b[1;32m      6\u001b[0m \u001b[0;34m\u001b[0m\u001b[0m\n\u001b[1;32m      7\u001b[0m \u001b[0mdf\u001b[0m\u001b[0;34m.\u001b[0m\u001b[0minfo\u001b[0m\u001b[0;34m(\u001b[0m\u001b[0;34m)\u001b[0m\u001b[0;34m\u001b[0m\u001b[0;34m\u001b[0m\u001b[0m\n",
            "\u001b[0;32m/usr/local/lib/python3.6/dist-packages/pandas/io/parsers.py\u001b[0m in \u001b[0;36mparser_f\u001b[0;34m(filepath_or_buffer, sep, delimiter, header, names, index_col, usecols, squeeze, prefix, mangle_dupe_cols, dtype, engine, converters, true_values, false_values, skipinitialspace, skiprows, skipfooter, nrows, na_values, keep_default_na, na_filter, verbose, skip_blank_lines, parse_dates, infer_datetime_format, keep_date_col, date_parser, dayfirst, cache_dates, iterator, chunksize, compression, thousands, decimal, lineterminator, quotechar, quoting, doublequote, escapechar, comment, encoding, dialect, error_bad_lines, warn_bad_lines, delim_whitespace, low_memory, memory_map, float_precision)\u001b[0m\n\u001b[1;32m    683\u001b[0m         )\n\u001b[1;32m    684\u001b[0m \u001b[0;34m\u001b[0m\u001b[0m\n\u001b[0;32m--> 685\u001b[0;31m         \u001b[0;32mreturn\u001b[0m \u001b[0m_read\u001b[0m\u001b[0;34m(\u001b[0m\u001b[0mfilepath_or_buffer\u001b[0m\u001b[0;34m,\u001b[0m \u001b[0mkwds\u001b[0m\u001b[0;34m)\u001b[0m\u001b[0;34m\u001b[0m\u001b[0;34m\u001b[0m\u001b[0m\n\u001b[0m\u001b[1;32m    686\u001b[0m \u001b[0;34m\u001b[0m\u001b[0m\n\u001b[1;32m    687\u001b[0m     \u001b[0mparser_f\u001b[0m\u001b[0;34m.\u001b[0m\u001b[0m__name__\u001b[0m \u001b[0;34m=\u001b[0m \u001b[0mname\u001b[0m\u001b[0;34m\u001b[0m\u001b[0;34m\u001b[0m\u001b[0m\n",
            "\u001b[0;32m/usr/local/lib/python3.6/dist-packages/pandas/io/parsers.py\u001b[0m in \u001b[0;36m_read\u001b[0;34m(filepath_or_buffer, kwds)\u001b[0m\n\u001b[1;32m    455\u001b[0m \u001b[0;34m\u001b[0m\u001b[0m\n\u001b[1;32m    456\u001b[0m     \u001b[0;31m# Create the parser.\u001b[0m\u001b[0;34m\u001b[0m\u001b[0;34m\u001b[0m\u001b[0;34m\u001b[0m\u001b[0m\n\u001b[0;32m--> 457\u001b[0;31m     \u001b[0mparser\u001b[0m \u001b[0;34m=\u001b[0m \u001b[0mTextFileReader\u001b[0m\u001b[0;34m(\u001b[0m\u001b[0mfp_or_buf\u001b[0m\u001b[0;34m,\u001b[0m \u001b[0;34m**\u001b[0m\u001b[0mkwds\u001b[0m\u001b[0;34m)\u001b[0m\u001b[0;34m\u001b[0m\u001b[0;34m\u001b[0m\u001b[0m\n\u001b[0m\u001b[1;32m    458\u001b[0m \u001b[0;34m\u001b[0m\u001b[0m\n\u001b[1;32m    459\u001b[0m     \u001b[0;32mif\u001b[0m \u001b[0mchunksize\u001b[0m \u001b[0;32mor\u001b[0m \u001b[0miterator\u001b[0m\u001b[0;34m:\u001b[0m\u001b[0;34m\u001b[0m\u001b[0;34m\u001b[0m\u001b[0m\n",
            "\u001b[0;32m/usr/local/lib/python3.6/dist-packages/pandas/io/parsers.py\u001b[0m in \u001b[0;36m__init__\u001b[0;34m(self, f, engine, **kwds)\u001b[0m\n\u001b[1;32m    893\u001b[0m             \u001b[0mself\u001b[0m\u001b[0;34m.\u001b[0m\u001b[0moptions\u001b[0m\u001b[0;34m[\u001b[0m\u001b[0;34m\"has_index_names\"\u001b[0m\u001b[0;34m]\u001b[0m \u001b[0;34m=\u001b[0m \u001b[0mkwds\u001b[0m\u001b[0;34m[\u001b[0m\u001b[0;34m\"has_index_names\"\u001b[0m\u001b[0;34m]\u001b[0m\u001b[0;34m\u001b[0m\u001b[0;34m\u001b[0m\u001b[0m\n\u001b[1;32m    894\u001b[0m \u001b[0;34m\u001b[0m\u001b[0m\n\u001b[0;32m--> 895\u001b[0;31m         \u001b[0mself\u001b[0m\u001b[0;34m.\u001b[0m\u001b[0m_make_engine\u001b[0m\u001b[0;34m(\u001b[0m\u001b[0mself\u001b[0m\u001b[0;34m.\u001b[0m\u001b[0mengine\u001b[0m\u001b[0;34m)\u001b[0m\u001b[0;34m\u001b[0m\u001b[0;34m\u001b[0m\u001b[0m\n\u001b[0m\u001b[1;32m    896\u001b[0m \u001b[0;34m\u001b[0m\u001b[0m\n\u001b[1;32m    897\u001b[0m     \u001b[0;32mdef\u001b[0m \u001b[0mclose\u001b[0m\u001b[0;34m(\u001b[0m\u001b[0mself\u001b[0m\u001b[0;34m)\u001b[0m\u001b[0;34m:\u001b[0m\u001b[0;34m\u001b[0m\u001b[0;34m\u001b[0m\u001b[0m\n",
            "\u001b[0;32m/usr/local/lib/python3.6/dist-packages/pandas/io/parsers.py\u001b[0m in \u001b[0;36m_make_engine\u001b[0;34m(self, engine)\u001b[0m\n\u001b[1;32m   1133\u001b[0m     \u001b[0;32mdef\u001b[0m \u001b[0m_make_engine\u001b[0m\u001b[0;34m(\u001b[0m\u001b[0mself\u001b[0m\u001b[0;34m,\u001b[0m \u001b[0mengine\u001b[0m\u001b[0;34m=\u001b[0m\u001b[0;34m\"c\"\u001b[0m\u001b[0;34m)\u001b[0m\u001b[0;34m:\u001b[0m\u001b[0;34m\u001b[0m\u001b[0;34m\u001b[0m\u001b[0m\n\u001b[1;32m   1134\u001b[0m         \u001b[0;32mif\u001b[0m \u001b[0mengine\u001b[0m \u001b[0;34m==\u001b[0m \u001b[0;34m\"c\"\u001b[0m\u001b[0;34m:\u001b[0m\u001b[0;34m\u001b[0m\u001b[0;34m\u001b[0m\u001b[0m\n\u001b[0;32m-> 1135\u001b[0;31m             \u001b[0mself\u001b[0m\u001b[0;34m.\u001b[0m\u001b[0m_engine\u001b[0m \u001b[0;34m=\u001b[0m \u001b[0mCParserWrapper\u001b[0m\u001b[0;34m(\u001b[0m\u001b[0mself\u001b[0m\u001b[0;34m.\u001b[0m\u001b[0mf\u001b[0m\u001b[0;34m,\u001b[0m \u001b[0;34m**\u001b[0m\u001b[0mself\u001b[0m\u001b[0;34m.\u001b[0m\u001b[0moptions\u001b[0m\u001b[0;34m)\u001b[0m\u001b[0;34m\u001b[0m\u001b[0;34m\u001b[0m\u001b[0m\n\u001b[0m\u001b[1;32m   1136\u001b[0m         \u001b[0;32melse\u001b[0m\u001b[0;34m:\u001b[0m\u001b[0;34m\u001b[0m\u001b[0;34m\u001b[0m\u001b[0m\n\u001b[1;32m   1137\u001b[0m             \u001b[0;32mif\u001b[0m \u001b[0mengine\u001b[0m \u001b[0;34m==\u001b[0m \u001b[0;34m\"python\"\u001b[0m\u001b[0;34m:\u001b[0m\u001b[0;34m\u001b[0m\u001b[0;34m\u001b[0m\u001b[0m\n",
            "\u001b[0;32m/usr/local/lib/python3.6/dist-packages/pandas/io/parsers.py\u001b[0m in \u001b[0;36m__init__\u001b[0;34m(self, src, **kwds)\u001b[0m\n\u001b[1;32m   1915\u001b[0m         \u001b[0mkwds\u001b[0m\u001b[0;34m[\u001b[0m\u001b[0;34m\"usecols\"\u001b[0m\u001b[0;34m]\u001b[0m \u001b[0;34m=\u001b[0m \u001b[0mself\u001b[0m\u001b[0;34m.\u001b[0m\u001b[0musecols\u001b[0m\u001b[0;34m\u001b[0m\u001b[0;34m\u001b[0m\u001b[0m\n\u001b[1;32m   1916\u001b[0m \u001b[0;34m\u001b[0m\u001b[0m\n\u001b[0;32m-> 1917\u001b[0;31m         \u001b[0mself\u001b[0m\u001b[0;34m.\u001b[0m\u001b[0m_reader\u001b[0m \u001b[0;34m=\u001b[0m \u001b[0mparsers\u001b[0m\u001b[0;34m.\u001b[0m\u001b[0mTextReader\u001b[0m\u001b[0;34m(\u001b[0m\u001b[0msrc\u001b[0m\u001b[0;34m,\u001b[0m \u001b[0;34m**\u001b[0m\u001b[0mkwds\u001b[0m\u001b[0;34m)\u001b[0m\u001b[0;34m\u001b[0m\u001b[0;34m\u001b[0m\u001b[0m\n\u001b[0m\u001b[1;32m   1918\u001b[0m         \u001b[0mself\u001b[0m\u001b[0;34m.\u001b[0m\u001b[0munnamed_cols\u001b[0m \u001b[0;34m=\u001b[0m \u001b[0mself\u001b[0m\u001b[0;34m.\u001b[0m\u001b[0m_reader\u001b[0m\u001b[0;34m.\u001b[0m\u001b[0munnamed_cols\u001b[0m\u001b[0;34m\u001b[0m\u001b[0;34m\u001b[0m\u001b[0m\n\u001b[1;32m   1919\u001b[0m \u001b[0;34m\u001b[0m\u001b[0m\n",
            "\u001b[0;32mpandas/_libs/parsers.pyx\u001b[0m in \u001b[0;36mpandas._libs.parsers.TextReader.__cinit__\u001b[0;34m()\u001b[0m\n",
            "\u001b[0;32mpandas/_libs/parsers.pyx\u001b[0m in \u001b[0;36mpandas._libs.parsers.TextReader._setup_parser_source\u001b[0;34m()\u001b[0m\n",
            "\u001b[0;31mFileNotFoundError\u001b[0m: [Errno 2] File b'./data/CollegeScorecard_Raw_Data/Most-Recent-Cohorts-All-Data-Elements.csv' does not exist: b'./data/CollegeScorecard_Raw_Data/Most-Recent-Cohorts-All-Data-Elements.csv'"
          ]
        }
      ]
    },
    {
      "cell_type": "code",
      "metadata": {
        "id": "CC4B5ioOmvxs",
        "colab_type": "code",
        "outputId": "c95fcced-4a6a-4e8e-b686-f863a02e55f4",
        "colab": {
          "base_uri": "https://localhost:8080/",
          "height": 359
        }
      },
      "source": [
        "df.sample(10)"
      ],
      "execution_count": 6,
      "outputs": [
        {
          "output_type": "execute_result",
          "data": {
            "text/html": [
              "<div>\n",
              "<style scoped>\n",
              "    .dataframe tbody tr th:only-of-type {\n",
              "        vertical-align: middle;\n",
              "    }\n",
              "\n",
              "    .dataframe tbody tr th {\n",
              "        vertical-align: top;\n",
              "    }\n",
              "\n",
              "    .dataframe thead th {\n",
              "        text-align: right;\n",
              "    }\n",
              "</style>\n",
              "<table border=\"1\" class=\"dataframe\">\n",
              "  <thead>\n",
              "    <tr style=\"text-align: right;\">\n",
              "      <th></th>\n",
              "      <th>UNITID</th>\n",
              "      <th>STABBR</th>\n",
              "    </tr>\n",
              "  </thead>\n",
              "  <tbody>\n",
              "    <tr>\n",
              "      <th>1357</th>\n",
              "      <td>158431</td>\n",
              "      <td>LA</td>\n",
              "    </tr>\n",
              "    <tr>\n",
              "      <th>1128</th>\n",
              "      <td>151944</td>\n",
              "      <td>IN</td>\n",
              "    </tr>\n",
              "    <tr>\n",
              "      <th>1551</th>\n",
              "      <td>165866</td>\n",
              "      <td>MA</td>\n",
              "    </tr>\n",
              "    <tr>\n",
              "      <th>3286</th>\n",
              "      <td>219383</td>\n",
              "      <td>SD</td>\n",
              "    </tr>\n",
              "    <tr>\n",
              "      <th>4904</th>\n",
              "      <td>441016</td>\n",
              "      <td>TX</td>\n",
              "    </tr>\n",
              "    <tr>\n",
              "      <th>5286</th>\n",
              "      <td>449676</td>\n",
              "      <td>NY</td>\n",
              "    </tr>\n",
              "    <tr>\n",
              "      <th>4671</th>\n",
              "      <td>429085</td>\n",
              "      <td>TX</td>\n",
              "    </tr>\n",
              "    <tr>\n",
              "      <th>1678</th>\n",
              "      <td>170532</td>\n",
              "      <td>MI</td>\n",
              "    </tr>\n",
              "    <tr>\n",
              "      <th>3486</th>\n",
              "      <td>226903</td>\n",
              "      <td>TX</td>\n",
              "    </tr>\n",
              "    <tr>\n",
              "      <th>6169</th>\n",
              "      <td>481748</td>\n",
              "      <td>IL</td>\n",
              "    </tr>\n",
              "  </tbody>\n",
              "</table>\n",
              "</div>"
            ],
            "text/plain": [
              "      UNITID STABBR\n",
              "1357  158431     LA\n",
              "1128  151944     IN\n",
              "1551  165866     MA\n",
              "3286  219383     SD\n",
              "4904  441016     TX\n",
              "5286  449676     NY\n",
              "4671  429085     TX\n",
              "1678  170532     MI\n",
              "3486  226903     TX\n",
              "6169  481748     IL"
            ]
          },
          "metadata": {
            "tags": []
          },
          "execution_count": 6
        }
      ]
    },
    {
      "cell_type": "code",
      "metadata": {
        "id": "T72ZGDtcmvxy",
        "colab_type": "code",
        "outputId": "36dedabc-5dfe-4bb2-aefe-ba1de2d12d31",
        "colab": {
          "base_uri": "https://localhost:8080/",
          "height": 204
        }
      },
      "source": [
        "# Groupby produces a dataframe and uses the group variable as the index. \n",
        "# Use reset_index to make the group variable a separate column\n",
        "\n",
        "grouped = df[[\"UNITID\",\"STABBR\"]].groupby(\"STABBR\").count().reset_index()\n",
        "\n",
        "# UNITED become the column name for the subtotal counts\n",
        "# Sort the dataframe based on the counts in a descending order\n",
        "\n",
        "grouped.sort_values('UNITID', ascending=False, inplace=True)  \n",
        "\n",
        "grouped.head()"
      ],
      "execution_count": 7,
      "outputs": [
        {
          "output_type": "execute_result",
          "data": {
            "text/html": [
              "<div>\n",
              "<style scoped>\n",
              "    .dataframe tbody tr th:only-of-type {\n",
              "        vertical-align: middle;\n",
              "    }\n",
              "\n",
              "    .dataframe tbody tr th {\n",
              "        vertical-align: top;\n",
              "    }\n",
              "\n",
              "    .dataframe thead th {\n",
              "        text-align: right;\n",
              "    }\n",
              "</style>\n",
              "<table border=\"1\" class=\"dataframe\">\n",
              "  <thead>\n",
              "    <tr style=\"text-align: right;\">\n",
              "      <th></th>\n",
              "      <th>STABBR</th>\n",
              "      <th>UNITID</th>\n",
              "    </tr>\n",
              "  </thead>\n",
              "  <tbody>\n",
              "    <tr>\n",
              "      <th>5</th>\n",
              "      <td>CA</td>\n",
              "      <td>716</td>\n",
              "    </tr>\n",
              "    <tr>\n",
              "      <th>39</th>\n",
              "      <td>NY</td>\n",
              "      <td>452</td>\n",
              "    </tr>\n",
              "    <tr>\n",
              "      <th>50</th>\n",
              "      <td>TX</td>\n",
              "      <td>446</td>\n",
              "    </tr>\n",
              "    <tr>\n",
              "      <th>10</th>\n",
              "      <td>FL</td>\n",
              "      <td>412</td>\n",
              "    </tr>\n",
              "    <tr>\n",
              "      <th>43</th>\n",
              "      <td>PA</td>\n",
              "      <td>378</td>\n",
              "    </tr>\n",
              "  </tbody>\n",
              "</table>\n",
              "</div>"
            ],
            "text/plain": [
              "   STABBR  UNITID\n",
              "5      CA     716\n",
              "39     NY     452\n",
              "50     TX     446\n",
              "10     FL     412\n",
              "43     PA     378"
            ]
          },
          "metadata": {
            "tags": []
          },
          "execution_count": 7
        }
      ]
    },
    {
      "cell_type": "markdown",
      "metadata": {
        "id": "pUq-uEyImvx4",
        "colab_type": "text"
      },
      "source": [
        "### Use Altair bar chart to display all states and territories. Since there are 59 rows, vertical bars will be too crowded, use horizontal bars instead."
      ]
    },
    {
      "cell_type": "code",
      "metadata": {
        "id": "DeioeQ1imvx5",
        "colab_type": "code",
        "outputId": "cfd889ed-3da5-4a58-cd3e-ff6a8fa38493",
        "colab": {
          "base_uri": "https://localhost:8080/",
          "height": 863
        }
      },
      "source": [
        "bars = alt.Chart(grouped).mark_bar().encode(\n",
        "    x='UNITID:Q',\n",
        "    y=alt.Y('STABBR:N', sort='-x'),\n",
        "    color=alt.Color('STABBR', scale=alt.Scale(scheme='dark2'))\n",
        ")\n",
        "\n",
        "bars = bars.properties(\n",
        "    width=600,\n",
        "    height=800\n",
        ")\n",
        "\n",
        "text = bars.mark_text(\n",
        "    align='left',\n",
        "    baseline='middle',\n",
        "    dx=3  # Nudges text to right so it doesn't overlap with the bar\n",
        ").encode(\n",
        "    text='UNITID:Q'\n",
        ")\n",
        "\n",
        "bars + text"
      ],
      "execution_count": 8,
      "outputs": [
        {
          "output_type": "execute_result",
          "data": {
            "text/plain": [
              "alt.LayerChart(...)"
            ],
            "text/html": [
              "\n",
              "<div id=\"altair-viz-668798cedf8947d6b069ba18d9296827\"></div>\n",
              "<script type=\"text/javascript\">\n",
              "  (function(spec, embedOpt){\n",
              "    const outputDiv = document.getElementById(\"altair-viz-668798cedf8947d6b069ba18d9296827\");\n",
              "    const paths = {\n",
              "      \"vega\": \"https://cdn.jsdelivr.net/npm//vega@5?noext\",\n",
              "      \"vega-lib\": \"https://cdn.jsdelivr.net/npm//vega-lib?noext\",\n",
              "      \"vega-lite\": \"https://cdn.jsdelivr.net/npm//vega-lite@4.0.2?noext\",\n",
              "      \"vega-embed\": \"https://cdn.jsdelivr.net/npm//vega-embed@6?noext\",\n",
              "    };\n",
              "\n",
              "    function loadScript(lib) {\n",
              "      return new Promise(function(resolve, reject) {\n",
              "        var s = document.createElement('script');\n",
              "        s.src = paths[lib];\n",
              "        s.async = true;\n",
              "        s.onload = () => resolve(paths[lib]);\n",
              "        s.onerror = () => reject(`Error loading script: ${paths[lib]}`);\n",
              "        document.getElementsByTagName(\"head\")[0].appendChild(s);\n",
              "      });\n",
              "    }\n",
              "\n",
              "    function showError(err) {\n",
              "      outputDiv.innerHTML = `<div class=\"error\" style=\"color:red;\">${err}</div>`;\n",
              "      throw err;\n",
              "    }\n",
              "\n",
              "    function displayChart(vegaEmbed) {\n",
              "      vegaEmbed(outputDiv, spec, embedOpt)\n",
              "        .catch(err => showError(`Javascript Error: ${err.message}<br>This usually means there's a typo in your chart specification. See the javascript console for the full traceback.`));\n",
              "    }\n",
              "\n",
              "    if(typeof define === \"function\" && define.amd) {\n",
              "      requirejs.config({paths});\n",
              "      require([\"vega-embed\"], displayChart, err => showError(`Error loading script: ${err.message}`));\n",
              "    } else if (typeof vegaEmbed === \"function\") {\n",
              "      displayChart(vegaEmbed);\n",
              "    } else {\n",
              "      loadScript(\"vega\")\n",
              "        .then(() => loadScript(\"vega-lite\"))\n",
              "        .then(() => loadScript(\"vega-embed\"))\n",
              "        .catch(showError)\n",
              "        .then(() => displayChart(vegaEmbed));\n",
              "    }\n",
              "  })({\"config\": {\"view\": {\"continuousWidth\": 400, \"continuousHeight\": 300}}, \"layer\": [{\"mark\": \"bar\", \"encoding\": {\"color\": {\"type\": \"nominal\", \"field\": \"STABBR\", \"scale\": {\"scheme\": \"dark2\"}}, \"x\": {\"type\": \"quantitative\", \"field\": \"UNITID\"}, \"y\": {\"type\": \"nominal\", \"field\": \"STABBR\", \"sort\": \"-x\"}}, \"height\": 800, \"width\": 600}, {\"mark\": {\"type\": \"text\", \"align\": \"left\", \"baseline\": \"middle\", \"dx\": 3}, \"encoding\": {\"color\": {\"type\": \"nominal\", \"field\": \"STABBR\", \"scale\": {\"scheme\": \"dark2\"}}, \"text\": {\"type\": \"quantitative\", \"field\": \"UNITID\"}, \"x\": {\"type\": \"quantitative\", \"field\": \"UNITID\"}, \"y\": {\"type\": \"nominal\", \"field\": \"STABBR\", \"sort\": \"-x\"}}, \"height\": 800, \"width\": 600}], \"data\": {\"name\": \"data-ffbc679301dfb135bcc8eecdb24d078f\"}, \"$schema\": \"https://vega.github.io/schema/vega-lite/v4.0.2.json\", \"datasets\": {\"data-ffbc679301dfb135bcc8eecdb24d078f\": [{\"STABBR\": \"CA\", \"UNITID\": 716}, {\"STABBR\": \"NY\", \"UNITID\": 452}, {\"STABBR\": \"TX\", \"UNITID\": 446}, {\"STABBR\": \"FL\", \"UNITID\": 412}, {\"STABBR\": \"PA\", \"UNITID\": 378}, {\"STABBR\": \"OH\", \"UNITID\": 317}, {\"STABBR\": \"IL\", \"UNITID\": 277}, {\"STABBR\": \"MI\", \"UNITID\": 194}, {\"STABBR\": \"NC\", \"UNITID\": 188}, {\"STABBR\": \"MO\", \"UNITID\": 180}, {\"STABBR\": \"MA\", \"UNITID\": 178}, {\"STABBR\": \"VA\", \"UNITID\": 177}, {\"STABBR\": \"TN\", \"UNITID\": 176}, {\"STABBR\": \"GA\", \"UNITID\": 175}, {\"STABBR\": \"NJ\", \"UNITID\": 162}, {\"STABBR\": \"IN\", \"UNITID\": 155}, {\"STABBR\": \"PR\", \"UNITID\": 146}, {\"STABBR\": \"LA\", \"UNITID\": 131}, {\"STABBR\": \"OK\", \"UNITID\": 129}, {\"STABBR\": \"AZ\", \"UNITID\": 125}, {\"STABBR\": \"MN\", \"UNITID\": 123}, {\"STABBR\": \"WA\", \"UNITID\": 119}, {\"STABBR\": \"CO\", \"UNITID\": 113}, {\"STABBR\": \"SC\", \"UNITID\": 110}, {\"STABBR\": \"WI\", \"UNITID\": 109}, {\"STABBR\": \"KY\", \"UNITID\": 101}, {\"STABBR\": \"AL\", \"UNITID\": 94}, {\"STABBR\": \"MD\", \"UNITID\": 91}, {\"STABBR\": \"AR\", \"UNITID\": 89}, {\"STABBR\": \"IA\", \"UNITID\": 88}, {\"STABBR\": \"OR\", \"UNITID\": 87}, {\"STABBR\": \"KS\", \"UNITID\": 84}, {\"STABBR\": \"CT\", \"UNITID\": 83}, {\"STABBR\": \"UT\", \"UNITID\": 75}, {\"STABBR\": \"WV\", \"UNITID\": 74}, {\"STABBR\": \"MS\", \"UNITID\": 61}, {\"STABBR\": \"NE\", \"UNITID\": 49}, {\"STABBR\": \"NM\", \"UNITID\": 49}, {\"STABBR\": \"NV\", \"UNITID\": 41}, {\"STABBR\": \"ME\", \"UNITID\": 40}, {\"STABBR\": \"NH\", \"UNITID\": 40}, {\"STABBR\": \"ID\", \"UNITID\": 37}, {\"STABBR\": \"MT\", \"UNITID\": 33}, {\"STABBR\": \"SD\", \"UNITID\": 30}, {\"STABBR\": \"ND\", \"UNITID\": 29}, {\"STABBR\": \"VT\", \"UNITID\": 26}, {\"STABBR\": \"RI\", \"UNITID\": 25}, {\"STABBR\": \"HI\", \"UNITID\": 25}, {\"STABBR\": \"DC\", \"UNITID\": 24}, {\"STABBR\": \"DE\", \"UNITID\": 20}, {\"STABBR\": \"WY\", \"UNITID\": 10}, {\"STABBR\": \"AK\", \"UNITID\": 9}, {\"STABBR\": \"GU\", \"UNITID\": 3}, {\"STABBR\": \"VI\", \"UNITID\": 2}, {\"STABBR\": \"PW\", \"UNITID\": 1}, {\"STABBR\": \"MH\", \"UNITID\": 1}, {\"STABBR\": \"FM\", \"UNITID\": 1}, {\"STABBR\": \"AS\", \"UNITID\": 1}, {\"STABBR\": \"MP\", \"UNITID\": 1}]}}, {\"mode\": \"vega-lite\"});\n",
              "</script>"
            ]
          },
          "metadata": {
            "tags": []
          },
          "execution_count": 8
        }
      ]
    },
    {
      "cell_type": "markdown",
      "metadata": {
        "id": "ItT9Z5rrmvx_",
        "colab_type": "text"
      },
      "source": [
        "### Use Altair bar chart to display top 10 states that have most colleges - Horizontal Bars"
      ]
    },
    {
      "cell_type": "code",
      "metadata": {
        "id": "iTDEY0hRmvyA",
        "colab_type": "code",
        "outputId": "2400e2a5-5927-4979-c247-7c2fa76f4b72",
        "colab": {
          "base_uri": "https://localhost:8080/",
          "height": 663
        }
      },
      "source": [
        "bars = alt.Chart(grouped.head(10)).mark_bar().encode(\n",
        "    x='UNITID:Q',\n",
        "    y=alt.Y('STABBR:N', sort='-x'),\n",
        "    color=alt.Color('STABBR', scale=alt.Scale(scheme='dark2'))\n",
        ")\n",
        "\n",
        "bars = bars.properties(\n",
        "    width=600,\n",
        "    height=600\n",
        ")\n",
        "\n",
        "text = bars.mark_text(\n",
        "    align='left',\n",
        "    baseline='middle',\n",
        "    dx=3  # Nudges text to right so it doesn't overlap with the bar\n",
        ").encode(\n",
        "    text='UNITID:Q'\n",
        ")\n",
        "\n",
        "bars + text\n"
      ],
      "execution_count": 9,
      "outputs": [
        {
          "output_type": "execute_result",
          "data": {
            "text/plain": [
              "alt.LayerChart(...)"
            ],
            "text/html": [
              "\n",
              "<div id=\"altair-viz-e440b38cfec64e2fa1dcd6355b34bfff\"></div>\n",
              "<script type=\"text/javascript\">\n",
              "  (function(spec, embedOpt){\n",
              "    const outputDiv = document.getElementById(\"altair-viz-e440b38cfec64e2fa1dcd6355b34bfff\");\n",
              "    const paths = {\n",
              "      \"vega\": \"https://cdn.jsdelivr.net/npm//vega@5?noext\",\n",
              "      \"vega-lib\": \"https://cdn.jsdelivr.net/npm//vega-lib?noext\",\n",
              "      \"vega-lite\": \"https://cdn.jsdelivr.net/npm//vega-lite@4.0.2?noext\",\n",
              "      \"vega-embed\": \"https://cdn.jsdelivr.net/npm//vega-embed@6?noext\",\n",
              "    };\n",
              "\n",
              "    function loadScript(lib) {\n",
              "      return new Promise(function(resolve, reject) {\n",
              "        var s = document.createElement('script');\n",
              "        s.src = paths[lib];\n",
              "        s.async = true;\n",
              "        s.onload = () => resolve(paths[lib]);\n",
              "        s.onerror = () => reject(`Error loading script: ${paths[lib]}`);\n",
              "        document.getElementsByTagName(\"head\")[0].appendChild(s);\n",
              "      });\n",
              "    }\n",
              "\n",
              "    function showError(err) {\n",
              "      outputDiv.innerHTML = `<div class=\"error\" style=\"color:red;\">${err}</div>`;\n",
              "      throw err;\n",
              "    }\n",
              "\n",
              "    function displayChart(vegaEmbed) {\n",
              "      vegaEmbed(outputDiv, spec, embedOpt)\n",
              "        .catch(err => showError(`Javascript Error: ${err.message}<br>This usually means there's a typo in your chart specification. See the javascript console for the full traceback.`));\n",
              "    }\n",
              "\n",
              "    if(typeof define === \"function\" && define.amd) {\n",
              "      requirejs.config({paths});\n",
              "      require([\"vega-embed\"], displayChart, err => showError(`Error loading script: ${err.message}`));\n",
              "    } else if (typeof vegaEmbed === \"function\") {\n",
              "      displayChart(vegaEmbed);\n",
              "    } else {\n",
              "      loadScript(\"vega\")\n",
              "        .then(() => loadScript(\"vega-lite\"))\n",
              "        .then(() => loadScript(\"vega-embed\"))\n",
              "        .catch(showError)\n",
              "        .then(() => displayChart(vegaEmbed));\n",
              "    }\n",
              "  })({\"config\": {\"view\": {\"continuousWidth\": 400, \"continuousHeight\": 300}}, \"layer\": [{\"mark\": \"bar\", \"encoding\": {\"color\": {\"type\": \"nominal\", \"field\": \"STABBR\", \"scale\": {\"scheme\": \"dark2\"}}, \"x\": {\"type\": \"quantitative\", \"field\": \"UNITID\"}, \"y\": {\"type\": \"nominal\", \"field\": \"STABBR\", \"sort\": \"-x\"}}, \"height\": 600, \"width\": 600}, {\"mark\": {\"type\": \"text\", \"align\": \"left\", \"baseline\": \"middle\", \"dx\": 3}, \"encoding\": {\"color\": {\"type\": \"nominal\", \"field\": \"STABBR\", \"scale\": {\"scheme\": \"dark2\"}}, \"text\": {\"type\": \"quantitative\", \"field\": \"UNITID\"}, \"x\": {\"type\": \"quantitative\", \"field\": \"UNITID\"}, \"y\": {\"type\": \"nominal\", \"field\": \"STABBR\", \"sort\": \"-x\"}}, \"height\": 600, \"width\": 600}], \"data\": {\"name\": \"data-326c088646f745a57aa8d86851968ce5\"}, \"$schema\": \"https://vega.github.io/schema/vega-lite/v4.0.2.json\", \"datasets\": {\"data-326c088646f745a57aa8d86851968ce5\": [{\"STABBR\": \"CA\", \"UNITID\": 716}, {\"STABBR\": \"NY\", \"UNITID\": 452}, {\"STABBR\": \"TX\", \"UNITID\": 446}, {\"STABBR\": \"FL\", \"UNITID\": 412}, {\"STABBR\": \"PA\", \"UNITID\": 378}, {\"STABBR\": \"OH\", \"UNITID\": 317}, {\"STABBR\": \"IL\", \"UNITID\": 277}, {\"STABBR\": \"MI\", \"UNITID\": 194}, {\"STABBR\": \"NC\", \"UNITID\": 188}, {\"STABBR\": \"MO\", \"UNITID\": 180}]}}, {\"mode\": \"vega-lite\"});\n",
              "</script>"
            ]
          },
          "metadata": {
            "tags": []
          },
          "execution_count": 9
        }
      ]
    },
    {
      "cell_type": "markdown",
      "metadata": {
        "id": "ViXLsSFMmvyH",
        "colab_type": "text"
      },
      "source": [
        "### Use Altair bar chart to display top 10 states that have most colleges - Vertical Bars"
      ]
    },
    {
      "cell_type": "code",
      "metadata": {
        "id": "j8sUxi01mvyI",
        "colab_type": "code",
        "outputId": "a2fb2d18-f6c4-4437-c7a1-2ea0905161eb",
        "colab": {}
      },
      "source": [
        "bars = alt.Chart(grouped.head(10)).mark_bar().encode(\n",
        "    y='UNITID:Q',\n",
        "    x=alt.X('STABBR:N', sort='y'),\n",
        "    color=alt.Color('STABBR', scale=alt.Scale(scheme='dark2'))\n",
        ")\n",
        "\n",
        "bars = bars.properties(\n",
        "    width=600,\n",
        "    height=600\n",
        ")\n",
        "\n",
        "text = bars.mark_text(\n",
        "    align='center',\n",
        "    baseline='middle',\n",
        "    dy=-10  # Nudges text up so it doesn't overlap with the bar\n",
        ").encode(\n",
        "    text='UNITID:Q'\n",
        ")\n",
        "\n",
        "bars + text\n"
      ],
      "execution_count": 0,
      "outputs": [
        {
          "output_type": "execute_result",
          "data": {
            "text/html": [
              "\n",
              "<div id=\"altair-viz-6c07b47eda6e442fa0c0b6918e99beca\"></div>\n",
              "<script type=\"text/javascript\">\n",
              "  (function(spec, embedOpt){\n",
              "    const outputDiv = document.getElementById(\"altair-viz-6c07b47eda6e442fa0c0b6918e99beca\");\n",
              "    const paths = {\n",
              "      \"vega\": \"https://cdn.jsdelivr.net/npm//vega@5?noext\",\n",
              "      \"vega-lib\": \"https://cdn.jsdelivr.net/npm//vega-lib?noext\",\n",
              "      \"vega-lite\": \"https://cdn.jsdelivr.net/npm//vega-lite@4.0.2?noext\",\n",
              "      \"vega-embed\": \"https://cdn.jsdelivr.net/npm//vega-embed@6?noext\",\n",
              "    };\n",
              "\n",
              "    function loadScript(lib) {\n",
              "      return new Promise(function(resolve, reject) {\n",
              "        var s = document.createElement('script');\n",
              "        s.src = paths[lib];\n",
              "        s.async = true;\n",
              "        s.onload = () => resolve(paths[lib]);\n",
              "        s.onerror = () => reject(`Error loading script: ${paths[lib]}`);\n",
              "        document.getElementsByTagName(\"head\")[0].appendChild(s);\n",
              "      });\n",
              "    }\n",
              "\n",
              "    function showError(err) {\n",
              "      outputDiv.innerHTML = `<div class=\"error\" style=\"color:red;\">${err}</div>`;\n",
              "      throw err;\n",
              "    }\n",
              "\n",
              "    function displayChart(vegaEmbed) {\n",
              "      vegaEmbed(outputDiv, spec, embedOpt)\n",
              "        .catch(err => showError(`Javascript Error: ${err.message}<br>This usually means there's a typo in your chart specification. See the javascript console for the full traceback.`));\n",
              "    }\n",
              "\n",
              "    if(typeof define === \"function\" && define.amd) {\n",
              "      requirejs.config({paths});\n",
              "      require([\"vega-embed\"], displayChart, err => showError(`Error loading script: ${err.message}`));\n",
              "    } else if (typeof vegaEmbed === \"function\") {\n",
              "      displayChart(vegaEmbed);\n",
              "    } else {\n",
              "      loadScript(\"vega\")\n",
              "        .then(() => loadScript(\"vega-lite\"))\n",
              "        .then(() => loadScript(\"vega-embed\"))\n",
              "        .catch(showError)\n",
              "        .then(() => displayChart(vegaEmbed));\n",
              "    }\n",
              "  })({\"config\": {\"view\": {\"continuousWidth\": 400, \"continuousHeight\": 300}}, \"layer\": [{\"mark\": \"bar\", \"encoding\": {\"color\": {\"type\": \"nominal\", \"field\": \"STABBR\", \"scale\": {\"scheme\": \"dark2\"}}, \"x\": {\"type\": \"nominal\", \"field\": \"STABBR\", \"sort\": \"y\"}, \"y\": {\"type\": \"quantitative\", \"field\": \"UNITID\"}}, \"height\": 600, \"width\": 600}, {\"mark\": {\"type\": \"text\", \"align\": \"center\", \"baseline\": \"middle\", \"dy\": -10}, \"encoding\": {\"color\": {\"type\": \"nominal\", \"field\": \"STABBR\", \"scale\": {\"scheme\": \"dark2\"}}, \"text\": {\"type\": \"quantitative\", \"field\": \"UNITID\"}, \"x\": {\"type\": \"nominal\", \"field\": \"STABBR\", \"sort\": \"y\"}, \"y\": {\"type\": \"quantitative\", \"field\": \"UNITID\"}}, \"height\": 600, \"width\": 600}], \"data\": {\"name\": \"data-326c088646f745a57aa8d86851968ce5\"}, \"$schema\": \"https://vega.github.io/schema/vega-lite/v4.0.2.json\", \"datasets\": {\"data-326c088646f745a57aa8d86851968ce5\": [{\"STABBR\": \"CA\", \"UNITID\": 716}, {\"STABBR\": \"NY\", \"UNITID\": 452}, {\"STABBR\": \"TX\", \"UNITID\": 446}, {\"STABBR\": \"FL\", \"UNITID\": 412}, {\"STABBR\": \"PA\", \"UNITID\": 378}, {\"STABBR\": \"OH\", \"UNITID\": 317}, {\"STABBR\": \"IL\", \"UNITID\": 277}, {\"STABBR\": \"MI\", \"UNITID\": 194}, {\"STABBR\": \"NC\", \"UNITID\": 188}, {\"STABBR\": \"MO\", \"UNITID\": 180}]}}, {\"mode\": \"vega-lite\"});\n",
              "</script>"
            ],
            "text/plain": [
              "alt.LayerChart(...)"
            ]
          },
          "metadata": {
            "tags": []
          },
          "execution_count": 8
        }
      ]
    },
    {
      "cell_type": "code",
      "metadata": {
        "id": "aNwyyMF_mvyM",
        "colab_type": "code",
        "colab": {}
      },
      "source": [
        ""
      ],
      "execution_count": 0,
      "outputs": []
    }
  ]
}