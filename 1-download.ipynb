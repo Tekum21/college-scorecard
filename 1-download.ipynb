{
 "cells": [
  {
   "cell_type": "markdown",
   "metadata": {},
   "source": [
    "# College Scorecard Data Analysis\n",
    "## Part Two - Retrieve Data from the Web\n",
    "- Download the consolidated CSV file and and save it to a local folder.\n",
    "- Download the zip file, unzip it, and save individual data files to a local folder."
   ]
  },
  {
   "cell_type": "code",
   "execution_count": 2,
   "metadata": {},
   "outputs": [],
   "source": [
    "import requests\n",
    "import os\n",
    "import zipfile, io"
   ]
  },
  {
   "cell_type": "code",
   "execution_count": null,
   "metadata": {},
   "outputs": [],
   "source": [
    "# Set up the folder \n",
    "\n",
    "FOLDER_NAME = r'./data'\n",
    "\n",
    "# make a folder if it doesn't already exist\n",
    "\n",
    "if not os.path.exists(FOLDER_NAME):\n",
    "    os.makedirs(FOLDER_NAME)\n",
    "\n",
    "URL = r'https://ed-public-download.app.cloud.gov/downloads/'\n"
   ]
  },
  {
   "cell_type": "code",
   "execution_count": 5,
   "metadata": {},
   "outputs": [],
   "source": [
    "# Download the most recent institutional data file (.csv) and save it \n",
    "\n",
    "CSV_FILE = 'Most-Recent-Cohorts-All-Data-Elements.csv'\n",
    "\n",
    "response = requests.get(URL + CSV_FILE)\n",
    "\n",
    "with open(FOLDER_NAME + CSV_FILE, 'wb') as file:         # option \"b\" is important, OW, it won't work\n",
    "    file.write(response.content)"
   ]
  },
  {
   "cell_type": "code",
   "execution_count": null,
   "metadata": {},
   "outputs": [],
   "source": [
    "# Download the zip file containing data for each school year since 2001 to 2018.\n",
    "\n",
    "ZIP_FILE = 'CollegeScorecard_Raw_Data.zip'\n",
    "\n",
    "response = requests.get(URL + ZIP_FILE, stream = True)\n",
    "\n",
    "# extract contents\n",
    "with zipfile.ZipFile(io.BytesIO(response.content)) as zf:\n",
    "    for elem in zf.namelist():\n",
    "        zf.extract(elem, FOLDER_NAME)"
   ]
  }
 ],
 "metadata": {
  "kernelspec": {
   "display_name": "Python 3",
   "language": "python",
   "name": "python3"
  },
  "language_info": {
   "codemirror_mode": {
    "name": "ipython",
    "version": 3
   },
   "file_extension": ".py",
   "mimetype": "text/x-python",
   "name": "python",
   "nbconvert_exporter": "python",
   "pygments_lexer": "ipython3",
   "version": "3.7.1"
  }
 },
 "nbformat": 4,
 "nbformat_minor": 2
}
