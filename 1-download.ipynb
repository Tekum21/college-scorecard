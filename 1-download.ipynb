{
  "nbformat": 4,
  "nbformat_minor": 0,
  "metadata": {
    "kernelspec": {
      "display_name": "Python 3",
      "language": "python",
      "name": "python3"
    },
    "language_info": {
      "codemirror_mode": {
        "name": "ipython",
        "version": 3
      },
      "file_extension": ".py",
      "mimetype": "text/x-python",
      "name": "python",
      "nbconvert_exporter": "python",
      "pygments_lexer": "ipython3",
      "version": "3.7.1"
    },
    "colab": {
      "name": "1-download.ipynb",
      "provenance": [],
      "include_colab_link": true
    }
  },
  "cells": [
    {
      "cell_type": "markdown",
      "metadata": {
        "id": "view-in-github",
        "colab_type": "text"
      },
      "source": [
        "<a href=\"https://colab.research.google.com/github/wcj365/college-scorecard/blob/master/1-download.ipynb\" target=\"_parent\"><img src=\"https://colab.research.google.com/assets/colab-badge.svg\" alt=\"Open In Colab\"/></a>"
      ]
    },
    {
      "cell_type": "markdown",
      "metadata": {
        "id": "boQbB1o_l0AF",
        "colab_type": "text"
      },
      "source": [
        "# College Scorecard Data Analysis\n",
        "## Part One - Retrieve Data from the Web\n",
        "- Data Source:\n",
        "https://collegescorecard.ed.gov/data/\n",
        "- Download the consolidated CSV file and and save it to a local folder.\n",
        "- Download the zip file, unzip it, and save individual data files to a local folder."
      ]
    },
    {
      "cell_type": "code",
      "metadata": {
        "id": "C7IE0t7gl0AJ",
        "colab_type": "code",
        "colab": {}
      },
      "source": [
        "import requests\n",
        "import os\n",
        "import zipfile, io"
      ],
      "execution_count": 0,
      "outputs": []
    },
    {
      "cell_type": "code",
      "metadata": {
        "id": "U11FjnvMl0AS",
        "colab_type": "code",
        "colab": {}
      },
      "source": [
        "# Set up the folder \n",
        "\n",
        "FOLDER_NAME = r'./data'\n",
        "\n",
        "# make a folder if it doesn't already exist\n",
        "\n",
        "if not os.path.exists(FOLDER_NAME):\n",
        "    os.makedirs(FOLDER_NAME)\n",
        "\n",
        "# This is the URL for downloading the data files\n",
        "\n",
        "URL = r'https://ed-public-download.app.cloud.gov/downloads/'\n"
      ],
      "execution_count": 0,
      "outputs": []
    },
    {
      "cell_type": "code",
      "metadata": {
        "id": "YY3A_2nhl0AW",
        "colab_type": "code",
        "colab": {}
      },
      "source": [
        "# Download the most recent institutional data file (.csv) and save it \n",
        "\n",
        "CSV_FILE = 'Most-Recent-Cohorts-All-Data-Elements.csv'\n",
        "\n",
        "response = requests.get(URL + CSV_FILE)\n",
        "\n",
        "with open(FOLDER_NAME + CSV_FILE, 'wb') as file:         # option \"b\" is important, OW, it won't work\n",
        "    file.write(response.content)"
      ],
      "execution_count": 0,
      "outputs": []
    },
    {
      "cell_type": "code",
      "metadata": {
        "id": "9uW_XAX3l0Ad",
        "colab_type": "code",
        "colab": {}
      },
      "source": [
        "# Download the zip file containing data for each school year since 2001 to 2018.\n",
        "\n",
        "ZIP_FILE = 'CollegeScorecard_Raw_Data.zip'\n",
        "\n",
        "response = requests.get(URL + ZIP_FILE, stream = True)\n",
        "\n",
        "# extract contents\n",
        "with zipfile.ZipFile(io.BytesIO(response.content)) as zf:\n",
        "    for elem in zf.namelist():\n",
        "        zf.extract(elem, FOLDER_NAME)"
      ],
      "execution_count": 0,
      "outputs": []
    }
  ]
}