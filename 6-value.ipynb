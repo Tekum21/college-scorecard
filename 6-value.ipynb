{
  "nbformat": 4,
  "nbformat_minor": 0,
  "metadata": {
    "kernelspec": {
      "display_name": "Python 3",
      "language": "python",
      "name": "python3"
    },
    "language_info": {
      "codemirror_mode": {
        "name": "ipython",
        "version": 3
      },
      "file_extension": ".py",
      "mimetype": "text/x-python",
      "name": "python",
      "nbconvert_exporter": "python",
      "pygments_lexer": "ipython3",
      "version": "3.7.1"
    },
    "colab": {
      "name": "5-earnings.ipynb",
      "provenance": [],
      "include_colab_link": true
    }
  },
  "cells": [
    {
      "cell_type": "markdown",
      "metadata": {
        "id": "view-in-github",
        "colab_type": "text"
      },
      "source": [
        "<a href=\"https://colab.research.google.com/github/wcj365/college-scorecard/blob/master/6-value.ipynb\" target=\"_parent\"><img src=\"https://colab.research.google.com/assets/colab-badge.svg\" alt=\"Open In Colab\"/></a>"
      ]
    },
    {
      "cell_type": "markdown",
      "metadata": {
        "id": "4Fkmdi_-pO2p",
        "colab_type": "text"
      },
      "source": [
        "# College Scorecard Data Exploration\n",
        "## Part Six - Value Comparison  \n",
        "There can be many ways to define the value a college provides. Here, for similicity, we define value as the ratio of earning potential over tution. We attempt to compare between public and private institutions.\n"
      ]
    },
    {
      "cell_type": "markdown",
      "metadata": {
        "id": "xJb95zeIpO2t",
        "colab_type": "text"
      },
      "source": [
        "## Step 1 - Import Relevant Python Libraries"
      ]
    },
    {
      "cell_type": "code",
      "metadata": {
        "id": "k5SUJzGapO2u",
        "colab_type": "code",
        "colab": {}
      },
      "source": [
        "import pandas as pd\n",
        "import numpy as np\n",
        "import matplotlib.pyplot as plt    \n",
        "import seaborn as sns\n",
        "import altair as alt               "
      ],
      "execution_count": 0,
      "outputs": []
    },
    {
      "cell_type": "markdown",
      "metadata": {
        "id": "nmkLec0NiXy-",
        "colab_type": "text"
      },
      "source": [
        "## Step 2 - Download Data and Save to Local Drive\n",
        "Since this notebook is created and run in Google Colab, we use the content folder mounted to the VM running the notebook. Since the VM is not permanent, each time, we open this notebook in Colab, we need to download the data from College Scorecard website."
      ]
    },
    {
      "cell_type": "code",
      "metadata": {
        "id": "cy5x5ypZgkZW",
        "colab_type": "code",
        "colab": {
          "base_uri": "https://localhost:8080/",
          "height": 121
        },
        "outputId": "1290908d-13a4-4c3b-b3e1-3f3910827103"
      },
      "source": [
        "# This is another way to download data - using Linux commands in bash shell.\n",
        "\n",
        "%%bash\n",
        "export FILE_PATH=\"https://ed-public-download.app.cloud.gov/downloads/\"\n",
        "export FILE_NAME=\"Most-Recent-Cohorts-All-Data-Elements.csv\"\n",
        "curl $FILE_PATH$FILE_NAME > ./$FILE_NAME\n",
        "ls -al"
      ],
      "execution_count": 4,
      "outputs": [
        {
          "output_type": "stream",
          "text": [
            "total 150076\n",
            "drwxr-xr-x 1 root root      4096 Mar  7 19:46 .\n",
            "drwxr-xr-x 1 root root      4096 Mar  7 19:38 ..\n",
            "drwxr-xr-x 1 root root      4096 Mar  3 18:11 .config\n",
            "-rw-r--r-- 1 root root 153660508 Mar  7 19:46 Most-Recent-Cohorts-All-Data-Elements.csv\n",
            "drwxr-xr-x 1 root root      4096 Mar  3 18:11 sample_data\n"
          ],
          "name": "stdout"
        }
      ]
    },
    {
      "cell_type": "markdown",
      "metadata": {
        "id": "hFA0aJ6ppO22",
        "colab_type": "text"
      },
      "source": [
        "## Load the Data into Pandas Dataframe"
      ]
    },
    {
      "cell_type": "code",
      "metadata": {
        "id": "pSlh5MW8pO23",
        "colab_type": "code",
        "outputId": "2c1d159d-d62d-43a2-be04-f6855eba78d0",
        "colab": {
          "base_uri": "https://localhost:8080/",
          "height": 243
        }
      },
      "source": [
        "COLUMNS_OF_INTEREST = ['UNITID', 'CONTROL', 'INSTNM', 'CITY', 'STABBR',\"REGION\", \"MD_EARN_WNE_P6\",\"TUITIONFEE_IN\"]\n",
        "FILE_NAME = \"Most-Recent-Cohorts-All-Data-Elements.csv\"\n",
        "\n",
        "df = pd.read_csv(FILE_NAME, usecols = COLUMNS_OF_INTEREST)\n",
        "df.info()     "
      ],
      "execution_count": 40,
      "outputs": [
        {
          "output_type": "stream",
          "text": [
            "<class 'pandas.core.frame.DataFrame'>\n",
            "RangeIndex: 7112 entries, 0 to 7111\n",
            "Data columns (total 8 columns):\n",
            "UNITID            7112 non-null int64\n",
            "INSTNM            7112 non-null object\n",
            "CITY              7112 non-null object\n",
            "STABBR            7112 non-null object\n",
            "CONTROL           7112 non-null int64\n",
            "REGION            7112 non-null int64\n",
            "TUITIONFEE_IN     4021 non-null float64\n",
            "MD_EARN_WNE_P6    5887 non-null object\n",
            "dtypes: float64(1), int64(3), object(4)\n",
            "memory usage: 444.6+ KB\n"
          ],
          "name": "stdout"
        }
      ]
    },
    {
      "cell_type": "code",
      "metadata": {
        "id": "nMCWvtXbpO29",
        "colab_type": "code",
        "outputId": "4f23fde1-25e0-4b58-82a0-bc8f411d30cd",
        "colab": {
          "base_uri": "https://localhost:8080/",
          "height": 202
        }
      },
      "source": [
        "df.sample(5)"
      ],
      "execution_count": 8,
      "outputs": [
        {
          "output_type": "execute_result",
          "data": {
            "text/html": [
              "<div>\n",
              "<style scoped>\n",
              "    .dataframe tbody tr th:only-of-type {\n",
              "        vertical-align: middle;\n",
              "    }\n",
              "\n",
              "    .dataframe tbody tr th {\n",
              "        vertical-align: top;\n",
              "    }\n",
              "\n",
              "    .dataframe thead th {\n",
              "        text-align: right;\n",
              "    }\n",
              "</style>\n",
              "<table border=\"1\" class=\"dataframe\">\n",
              "  <thead>\n",
              "    <tr style=\"text-align: right;\">\n",
              "      <th></th>\n",
              "      <th>UNITID</th>\n",
              "      <th>INSTNM</th>\n",
              "      <th>CITY</th>\n",
              "      <th>STABBR</th>\n",
              "      <th>REGION</th>\n",
              "      <th>TUITIONFEE_IN</th>\n",
              "      <th>MD_EARN_WNE_P6</th>\n",
              "    </tr>\n",
              "  </thead>\n",
              "  <tbody>\n",
              "    <tr>\n",
              "      <th>2821</th>\n",
              "      <td>206914</td>\n",
              "      <td>Cameron University</td>\n",
              "      <td>Lawton</td>\n",
              "      <td>OK</td>\n",
              "      <td>6</td>\n",
              "      <td>6180.0</td>\n",
              "      <td>27000</td>\n",
              "    </tr>\n",
              "    <tr>\n",
              "      <th>6447</th>\n",
              "      <td>486983</td>\n",
              "      <td>Paul Mitchell the School-Madison</td>\n",
              "      <td>Madison</td>\n",
              "      <td>WI</td>\n",
              "      <td>3</td>\n",
              "      <td>NaN</td>\n",
              "      <td>NaN</td>\n",
              "    </tr>\n",
              "    <tr>\n",
              "      <th>3189</th>\n",
              "      <td>217156</td>\n",
              "      <td>Brown University</td>\n",
              "      <td>Providence</td>\n",
              "      <td>RI</td>\n",
              "      <td>1</td>\n",
              "      <td>53419.0</td>\n",
              "      <td>52500</td>\n",
              "    </tr>\n",
              "    <tr>\n",
              "      <th>3151</th>\n",
              "      <td>216162</td>\n",
              "      <td>St Lukes Hospital School of Nursing</td>\n",
              "      <td>Bethlehem</td>\n",
              "      <td>PA</td>\n",
              "      <td>2</td>\n",
              "      <td>NaN</td>\n",
              "      <td>56700</td>\n",
              "    </tr>\n",
              "    <tr>\n",
              "      <th>1302</th>\n",
              "      <td>156471</td>\n",
              "      <td>Galen College of Nursing-Louisville</td>\n",
              "      <td>Louisville</td>\n",
              "      <td>KY</td>\n",
              "      <td>5</td>\n",
              "      <td>NaN</td>\n",
              "      <td>42200</td>\n",
              "    </tr>\n",
              "  </tbody>\n",
              "</table>\n",
              "</div>"
            ],
            "text/plain": [
              "      UNITID                               INSTNM  ... TUITIONFEE_IN MD_EARN_WNE_P6\n",
              "2821  206914                   Cameron University  ...        6180.0          27000\n",
              "6447  486983     Paul Mitchell the School-Madison  ...           NaN            NaN\n",
              "3189  217156                     Brown University  ...       53419.0          52500\n",
              "3151  216162  St Lukes Hospital School of Nursing  ...           NaN          56700\n",
              "1302  156471  Galen College of Nursing-Louisville  ...           NaN          42200\n",
              "\n",
              "[5 rows x 7 columns]"
            ]
          },
          "metadata": {
            "tags": []
          },
          "execution_count": 8
        }
      ]
    },
    {
      "cell_type": "markdown",
      "metadata": {
        "id": "RBqsuQoQkNbz",
        "colab_type": "text"
      },
      "source": [
        "## Step 4 - Cleanse Data"
      ]
    },
    {
      "cell_type": "code",
      "metadata": {
        "id": "TGYXph1vpO3D",
        "colab_type": "code",
        "colab": {
          "base_uri": "https://localhost:8080/",
          "height": 35
        },
        "outputId": "31d37207-a75b-4392-a224-7a28d7d599e5"
      },
      "source": [
        "# notice from the output of info(), MD_EARN_WNE_P6 is of type object.\n",
        "# it Should be numerical. There is issue with the column.\n",
        "# drop rows that have \"PrivacySuppressed\" in th earnings.\n",
        "\n",
        "df = df[df['MD_EARN_WNE_P6'] != \"PrivacySuppressed\"] \n",
        "\n",
        "df.shape"
      ],
      "execution_count": 41,
      "outputs": [
        {
          "output_type": "execute_result",
          "data": {
            "text/plain": [
              "(6583, 8)"
            ]
          },
          "metadata": {
            "tags": []
          },
          "execution_count": 41
        }
      ]
    },
    {
      "cell_type": "code",
      "metadata": {
        "id": "btavww-elK5U",
        "colab_type": "code",
        "colab": {}
      },
      "source": [
        "# Convert the earnings from categorical to numeric type\n",
        "\n",
        "df['MD_EARN_WNE_P6'] = df['MD_EARN_WNE_P6'].astype(float)\n"
      ],
      "execution_count": 0,
      "outputs": []
    },
    {
      "cell_type": "code",
      "metadata": {
        "id": "NKHrJnAPkhUC",
        "colab_type": "code",
        "colab": {
          "base_uri": "https://localhost:8080/",
          "height": 35
        },
        "outputId": "bae0be20-65fb-4045-cc94-e81fe1c6c2ed"
      },
      "source": [
        "# drop all rows that have missing values\n",
        "\n",
        "df.dropna(inplace=True)\n",
        "df.shape"
      ],
      "execution_count": 43,
      "outputs": [
        {
          "output_type": "execute_result",
          "data": {
            "text/plain": [
              "(3577, 8)"
            ]
          },
          "metadata": {
            "tags": []
          },
          "execution_count": 43
        }
      ]
    },
    {
      "cell_type": "code",
      "metadata": {
        "id": "sR6zLeuFnB4G",
        "colab_type": "code",
        "colab": {
          "base_uri": "https://localhost:8080/",
          "height": 35
        },
        "outputId": "d1853580-04c2-45d2-b1a4-705b03ebfce8"
      },
      "source": [
        "# Drop the rows that has 0 tution or 0 earnings\n",
        "\n",
        "df = df[df['TUITIONFEE_IN'] > 0]\n",
        "df = df[df['MD_EARN_WNE_P6'] > 0]\n",
        "df.shape"
      ],
      "execution_count": 44,
      "outputs": [
        {
          "output_type": "execute_result",
          "data": {
            "text/plain": [
              "(3577, 8)"
            ]
          },
          "metadata": {
            "tags": []
          },
          "execution_count": 44
        }
      ]
    },
    {
      "cell_type": "code",
      "metadata": {
        "id": "MPsPepdylP7M",
        "colab_type": "code",
        "colab": {
          "base_uri": "https://localhost:8080/",
          "height": 121
        },
        "outputId": "f9c53375-4269-4c85-efc9-e747ee21d6a5"
      },
      "source": [
        "# Calculate VALUE and add it to the data frame\n",
        "\n",
        "df[\"VALUE\"] = round(df['TUITIONFEE_IN'] / df['MD_EARN_WNE_P6'], 2)\n",
        "df[\"VALUE\"].sample(5)"
      ],
      "execution_count": 45,
      "outputs": [
        {
          "output_type": "execute_result",
          "data": {
            "text/plain": [
              "2392    0.18\n",
              "1995    0.89\n",
              "5667    1.04\n",
              "6812    0.55\n",
              "1971    0.18\n",
              "Name: VALUE, dtype: float64"
            ]
          },
          "metadata": {
            "tags": []
          },
          "execution_count": 45
        }
      ]
    },
    {
      "cell_type": "code",
      "metadata": {
        "id": "Kd1T2eQDo-ke",
        "colab_type": "code",
        "colab": {
          "base_uri": "https://localhost:8080/",
          "height": 173
        },
        "outputId": "b7aa83d0-69f5-4cb3-a946-e943d9fbf061"
      },
      "source": [
        "# Calculate descriptive statistics\n",
        "\n",
        "df[\"VALUE\"].describe()"
      ],
      "execution_count": 46,
      "outputs": [
        {
          "output_type": "execute_result",
          "data": {
            "text/plain": [
              "count    3577.000000\n",
              "mean        0.489279\n",
              "std         0.369040\n",
              "min         0.020000\n",
              "25%         0.190000\n",
              "50%         0.390000\n",
              "75%         0.740000\n",
              "max         2.840000\n",
              "Name: VALUE, dtype: float64"
            ]
          },
          "metadata": {
            "tags": []
          },
          "execution_count": 46
        }
      ]
    },
    {
      "cell_type": "code",
      "metadata": {
        "id": "ixBKNbEcpO3M",
        "colab_type": "code",
        "outputId": "a6e23851-83d2-43d7-9b16-b0da435b4112",
        "colab": {
          "base_uri": "https://localhost:8080/",
          "height": 513
        }
      },
      "source": [
        "fig,ax = plt.subplots(figsize=(12, 8))\n",
        "sns.kdeplot(df[\"VALUE\"],shade=True,color=\"black\",label=\"All Colleges\")\n",
        "ax.set_title(\"The College Value Distribution\")\n",
        "ax.set_xlabel(\"The College Value - Earnings/Tuition %\")\n",
        "plt.show()"
      ],
      "execution_count": 53,
      "outputs": [
        {
          "output_type": "display_data",
          "data": {
            "image/png": "[encoded data removed]",
            "text/plain": [
              "<Figure size 864x576 with 1 Axes>"
            ]
          },
          "metadata": {
            "tags": []
          }
        }
      ]
    },
    {
      "cell_type": "code",
      "metadata": {
        "id": "nQ1j7vk8pO3R",
        "colab_type": "code",
        "outputId": "fa407aaf-da01-4e60-a13b-5ae3b633f758",
        "colab": {
          "base_uri": "https://localhost:8080/",
          "height": 513
        }
      },
      "source": [
        "public = df[df[\"CONTROL\"] == 1]\n",
        "fig,ax = plt.subplots(figsize=(12, 8))\n",
        "sns.kdeplot(public[\"VALUE\"],shade=True,color=\"green\",label=\"Public Colleges\")\n",
        "ax.set_title(\"The College Value Distribution\")\n",
        "ax.set_xlabel(\"The College Value - Earnings/Tuition %\")\n",
        "plt.show()"
      ],
      "execution_count": 50,
      "outputs": [
        {
          "output_type": "display_data",
          "data": {
            "image/png": "[encoded data removed]",
            "text/plain": [
              "<Figure size 864x576 with 1 Axes>"
            ]
          },
          "metadata": {
            "tags": []
          }
        }
      ]
    },
    {
      "cell_type": "code",
      "metadata": {
        "id": "g6bfgLSErwxz",
        "colab_type": "code",
        "colab": {
          "base_uri": "https://localhost:8080/",
          "height": 513
        },
        "outputId": "a4931c88-dc08-42d5-f92e-8a9afef50b1f"
      },
      "source": [
        "public = df[df[\"CONTROL\"] != 1]\n",
        "fig,ax = plt.subplots(figsize=(12, 8))\n",
        "sns.kdeplot(public[\"VALUE\"],shade=True,color=\"red\",label=\"Private Colleges\")\n",
        "ax.set_title(\"The College Value Distribution\")\n",
        "ax.set_xlabel(\"The College Value - Earnings/Tuition %\")\n",
        "plt.show()"
      ],
      "execution_count": 52,
      "outputs": [
        {
          "output_type": "display_data",
          "data": {
            "image/png": "[encoded data removed]",
            "text/plain": [
              "<Figure size 864x576 with 1 Axes>"
            ]
          },
          "metadata": {
            "tags": []
          }
        }
      ]
    },
    {
      "cell_type": "code",
      "metadata": {
        "id": "hWKNuM93rTFi",
        "colab_type": "code",
        "colab": {}
      },
      "source": [
        "ax = sns.kdeplot(df1[\"DiffMeanHourlyPercent\"],shade=True,color=\"blue\",label=\"All Companies\")\n",
        "plt.xlim([-75,75])\n",
        "ax.set_title(\"Differences in Mean Hourly Pay, Electricity Sector and All Companies\")\n",
        "ax.set_xlabel(\"Difference % (DiffMeanHourlyPercent)\")\n",
        "plt.legend()"
      ],
      "execution_count": 0,
      "outputs": []
    },
    {
      "cell_type": "markdown",
      "metadata": {
        "id": "tRM3DGeJpO3d",
        "colab_type": "text"
      },
      "source": [
        "## The Region Mapping\n",
        "\n",
        "-    0: \"U.S. Service Schools\",\n",
        "-    1: \"New England (CT, ME, MA, NH, RI, VT)\",\n",
        "-    2: \"Mid East (DE, DC, MD, NJ, NY, PA)\",\n",
        "-    3: \"Great Lakes (IL, IN, MI, OH, WI)\",\n",
        "-    4: \"Plains (IA, KS, MN, MO, NE, ND, SD)\",\n",
        "-    5: \"Southeast (AL, AR, FL, GA, KY, LA, MS, NC, SC, TN, VA, WV)\",\n",
        "-    6: \"Southwest (AZ, NM, OK, TX)\",\n",
        "-    7: \"Rocky Mountains (CO, ID, MT, UT, WY)\",\n",
        "-    8: \"Far West (AK, CA, HI, NV, OR, WA)\",\n",
        "-    9: \"Outlying Areas (AS, FM, GU, MH, MP, PR, PW, VI)\"\n"
      ]
    },
    {
      "cell_type": "code",
      "metadata": {
        "id": "EsHUL3b-pO3f",
        "colab_type": "code",
        "outputId": "7c07a30e-4d9d-4296-f762-9f95cca698d3",
        "colab": {}
      },
      "source": [
        "REGION_DICT = {\n",
        "    0: \"U.S. Service Schools\",\n",
        "    1: \"New England\",\n",
        "    2: \"Mid East\",\n",
        "    3: \"Great Lakes\",\n",
        "    4: \"Plains\",\n",
        "    5: \"Southeast\",\n",
        "    6: \"Southwest\",\n",
        "    7: \"Rocky Mountains\",\n",
        "    8: \"Far West\",\n",
        "    9: \"Outlying Areas\"\n",
        "}\n",
        "\n",
        "grouped[\"REGION\"].replace(to_replace=REGION_DICT, inplace=True)\n",
        "\n",
        "grouped.sample(10)"
      ],
      "execution_count": 0,
      "outputs": [
        {
          "output_type": "execute_result",
          "data": {
            "text/html": [
              "<div>\n",
              "<style scoped>\n",
              "    .dataframe tbody tr th:only-of-type {\n",
              "        vertical-align: middle;\n",
              "    }\n",
              "\n",
              "    .dataframe tbody tr th {\n",
              "        vertical-align: top;\n",
              "    }\n",
              "\n",
              "    .dataframe thead th {\n",
              "        text-align: right;\n",
              "    }\n",
              "</style>\n",
              "<table border=\"1\" class=\"dataframe\">\n",
              "  <thead>\n",
              "    <tr style=\"text-align: right;\">\n",
              "      <th></th>\n",
              "      <th>STABBR</th>\n",
              "      <th>PAR_ED_PCT_1STGEN</th>\n",
              "      <th>MD_EARN_WNE_P6</th>\n",
              "      <th>REGION</th>\n",
              "    </tr>\n",
              "  </thead>\n",
              "  <tbody>\n",
              "    <tr>\n",
              "      <th>20</th>\n",
              "      <td>KY</td>\n",
              "      <td>0.49</td>\n",
              "      <td>24.0</td>\n",
              "      <td>Southeast</td>\n",
              "    </tr>\n",
              "    <tr>\n",
              "      <th>38</th>\n",
              "      <td>NY</td>\n",
              "      <td>0.41</td>\n",
              "      <td>33.0</td>\n",
              "      <td>Mid East</td>\n",
              "    </tr>\n",
              "    <tr>\n",
              "      <th>43</th>\n",
              "      <td>PR</td>\n",
              "      <td>0.46</td>\n",
              "      <td>15.0</td>\n",
              "      <td>Outlying Areas</td>\n",
              "    </tr>\n",
              "    <tr>\n",
              "      <th>35</th>\n",
              "      <td>NJ</td>\n",
              "      <td>0.51</td>\n",
              "      <td>29.0</td>\n",
              "      <td>Mid East</td>\n",
              "    </tr>\n",
              "    <tr>\n",
              "      <th>8</th>\n",
              "      <td>DC</td>\n",
              "      <td>0.43</td>\n",
              "      <td>34.0</td>\n",
              "      <td>Mid East</td>\n",
              "    </tr>\n",
              "    <tr>\n",
              "      <th>16</th>\n",
              "      <td>ID</td>\n",
              "      <td>0.45</td>\n",
              "      <td>25.0</td>\n",
              "      <td>Rocky Mountains</td>\n",
              "    </tr>\n",
              "    <tr>\n",
              "      <th>19</th>\n",
              "      <td>KS</td>\n",
              "      <td>0.41</td>\n",
              "      <td>30.0</td>\n",
              "      <td>Plains</td>\n",
              "    </tr>\n",
              "    <tr>\n",
              "      <th>11</th>\n",
              "      <td>FM</td>\n",
              "      <td>0.47</td>\n",
              "      <td>16.0</td>\n",
              "      <td>Outlying Areas</td>\n",
              "    </tr>\n",
              "    <tr>\n",
              "      <th>7</th>\n",
              "      <td>CT</td>\n",
              "      <td>0.46</td>\n",
              "      <td>34.0</td>\n",
              "      <td>New England</td>\n",
              "    </tr>\n",
              "    <tr>\n",
              "      <th>23</th>\n",
              "      <td>MD</td>\n",
              "      <td>0.45</td>\n",
              "      <td>30.0</td>\n",
              "      <td>Mid East</td>\n",
              "    </tr>\n",
              "  </tbody>\n",
              "</table>\n",
              "</div>"
            ],
            "text/plain": [
              "   STABBR  PAR_ED_PCT_1STGEN  MD_EARN_WNE_P6           REGION\n",
              "20     KY               0.49            24.0        Southeast\n",
              "38     NY               0.41            33.0         Mid East\n",
              "43     PR               0.46            15.0   Outlying Areas\n",
              "35     NJ               0.51            29.0         Mid East\n",
              "8      DC               0.43            34.0         Mid East\n",
              "16     ID               0.45            25.0  Rocky Mountains\n",
              "19     KS               0.41            30.0           Plains\n",
              "11     FM               0.47            16.0   Outlying Areas\n",
              "7      CT               0.46            34.0      New England\n",
              "23     MD               0.45            30.0         Mid East"
            ]
          },
          "metadata": {
            "tags": []
          },
          "execution_count": 100
        }
      ]
    },
    {
      "cell_type": "code",
      "metadata": {
        "id": "dZMIf0ZypO3p",
        "colab_type": "code",
        "colab": {}
      },
      "source": [
        ""
      ],
      "execution_count": 0,
      "outputs": []
    },
    {
      "cell_type": "code",
      "metadata": {
        "id": "1Ll7IUi6pO3t",
        "colab_type": "code",
        "colab": {}
      },
      "source": [
        ""
      ],
      "execution_count": 0,
      "outputs": []
    }
  ]
}